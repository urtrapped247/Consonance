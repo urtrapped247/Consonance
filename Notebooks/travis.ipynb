{
 "cells": [
  {
   "cell_type": "markdown",
   "id": "e4f5a148-7d63-406b-85bf-d9d8e2a0dec4",
   "metadata": {},
   "source": [
    "# Parse .xml file to produce our y"
   ]
  },
  {
   "cell_type": "code",
   "execution_count": null,
   "id": "070f54a0-708b-4b52-8c32-eb9d2d86cd9d",
   "metadata": {},
   "outputs": [],
   "source": [
    "import xml.etree.ElementTree as ET\n",
    "\n",
    "# Function to parse the XML and get the note\n",
    "def get_note_from_xml(xml_path):\n",
    "    tree = ET.parse(xml_path)\n",
    "    root = tree.getroot()\n",
    "\n",
    "    # Assuming the XML structure has the note under 'note' tag\n",
    "    # Modify this according to your actual XML structure\n",
    "    note = root.find('.//note').text  # Adjust the XPath based on your XML structure\n",
    "    return note\n",
    "\n",
    "# Function to encode the note to a number\n",
    "def encode_note(note):\n",
    "    note_mapping = {\n",
    "        'C5': 0, 'D5': 1, 'E5': 2, 'F5': 3, 'G5': 4, 'A6': 5, 'B6': 6,\n",
    "        'B5': -1, 'A5': -2, 'G4': -3, 'F4': -4, 'E4': -5,\n",
    "        'D4': -6, 'C4': -7, 'B4': -8\n",
    "    }\n",
    "    return note_mapping.get(note, -1)  # Return -1 if note is not in mapping\n",
    "\n",
    "# Function to process the XML and get the encoded note\n",
    "def process_xml(xml_path):\n",
    "    note = get_note_from_xml(xml_path)\n",
    "    encoded_note = encode_note(note)\n",
    "    return encoded_note\n",
    "\n",
    "# Example usage\n",
    "xml_path = 'path/to/note.xml'\n",
    "encoded_note = process_xml(xml_path)\n",
    "print(f\"Encoded Note: {encoded_note}\")\n",
    "\n"
   ]
  },
  {
   "cell_type": "markdown",
   "id": "12621428-a938-4ed8-834d-fe7268cb80f8",
   "metadata": {},
   "source": [
    "# Crop images to produce X"
   ]
  },
  {
   "cell_type": "code",
   "execution_count": null,
   "id": "1a7d30d0-5e96-48d7-8fcd-94d3ce2b50c2",
   "metadata": {},
   "outputs": [],
   "source": [
    "from PIL import Image\n",
    "\n",
    "def crop_note_from_png(image_path, output_path):\n",
    "    \"\"\"\n",
    "    Crops the image to the specified dimensions.\n",
    "\n",
    "    Parameters:\n",
    "    - image_path (str): The path to the input PNG image.\n",
    "    - output_path (str): The path to save the cropped image.\n",
    "    \"\"\"\n",
    "    # Define the crop box (left, upper, right, lower)\n",
    "\n",
    "    crop_box = (506, 536, 580, 870)  # Replace these values with your desired dimensions\n",
    "\n",
    "    # Open the image file\n",
    "    with Image.open(image_path) as img:\n",
    "        # Crop the image using the provided crop box\n",
    "        cropped_img = img.crop(crop_box)\n",
    "\n",
    "        # Save the cropped image\n",
    "        cropped_img.save(output_path)\n",
    "\n",
    "# Example usage\n",
    "image_path = 'path/to/input_image.png'\n",
    "output_path = 'path/to/output_image.png'\n",
    "crop_note_from_png(image_path, output_path)\n"
   ]
  },
  {
   "cell_type": "markdown",
   "id": "d1cc6d4f-0cc9-4d39-b8ef-69fb407fbc42",
   "metadata": {},
   "source": [
    "# Cropper but every .png in a directory"
   ]
  },
  {
   "cell_type": "code",
   "execution_count": 2,
   "id": "79f65f5b-1e0e-4d7d-9d42-b11ec4fdaac8",
   "metadata": {},
   "outputs": [
    {
     "ename": "FileNotFoundError",
     "evalue": "[Errno 2] No such file or directory: 'raw_data/sheet_images'",
     "output_type": "error",
     "traceback": [
      "\u001b[0;31m---------------------------------------------------------------------------\u001b[0m",
      "\u001b[0;31mFileNotFoundError\u001b[0m                         Traceback (most recent call last)",
      "Cell \u001b[0;32mIn[2], line 37\u001b[0m\n\u001b[1;32m     35\u001b[0m input_folder \u001b[38;5;241m=\u001b[39m \u001b[38;5;124m'\u001b[39m\u001b[38;5;124mraw_data/sheet_images\u001b[39m\u001b[38;5;124m'\u001b[39m\n\u001b[1;32m     36\u001b[0m output_folder \u001b[38;5;241m=\u001b[39m \u001b[38;5;124m'\u001b[39m\u001b[38;5;124mraw_data/cropped_images\u001b[39m\u001b[38;5;124m'\u001b[39m\n\u001b[0;32m---> 37\u001b[0m \u001b[43mcrop_note_from_png_folder\u001b[49m\u001b[43m(\u001b[49m\u001b[43minput_folder\u001b[49m\u001b[43m,\u001b[49m\u001b[43m \u001b[49m\u001b[43moutput_folder\u001b[49m\u001b[43m)\u001b[49m\n",
      "Cell \u001b[0;32mIn[2], line 19\u001b[0m, in \u001b[0;36mcrop_note_from_png_folder\u001b[0;34m(input_folder, output_folder)\u001b[0m\n\u001b[1;32m     16\u001b[0m os\u001b[38;5;241m.\u001b[39mmakedirs(output_folder, exist_ok\u001b[38;5;241m=\u001b[39m\u001b[38;5;28;01mTrue\u001b[39;00m)\n\u001b[1;32m     18\u001b[0m \u001b[38;5;66;03m# Iterate through all files in the input folder\u001b[39;00m\n\u001b[0;32m---> 19\u001b[0m \u001b[38;5;28;01mfor\u001b[39;00m filename \u001b[38;5;129;01min\u001b[39;00m \u001b[43mos\u001b[49m\u001b[38;5;241;43m.\u001b[39;49m\u001b[43mlistdir\u001b[49m\u001b[43m(\u001b[49m\u001b[43minput_folder\u001b[49m\u001b[43m)\u001b[49m:\n\u001b[1;32m     20\u001b[0m     \u001b[38;5;28;01mif\u001b[39;00m filename\u001b[38;5;241m.\u001b[39mlower()\u001b[38;5;241m.\u001b[39mendswith(\u001b[38;5;124m'\u001b[39m\u001b[38;5;124m.png\u001b[39m\u001b[38;5;124m'\u001b[39m):\n\u001b[1;32m     21\u001b[0m         input_path \u001b[38;5;241m=\u001b[39m os\u001b[38;5;241m.\u001b[39mpath\u001b[38;5;241m.\u001b[39mjoin(input_folder, filename)\n",
      "\u001b[0;31mFileNotFoundError\u001b[0m: [Errno 2] No such file or directory: 'raw_data/sheet_images'"
     ]
    }
   ],
   "source": [
    "import os\n",
    "from PIL import Image\n",
    "\n",
    "def crop_note_from_png_folder(input_folder, output_folder):\n",
    "    \"\"\"\n",
    "    Crops all PNG images in the specified folder to the specified dimensions.\n",
    "\n",
    "    Parameters:\n",
    "    - input_folder (str): The path to the input folder containing PNG images.\n",
    "    - output_folder (str): The path to the folder to save the cropped images.\n",
    "    \"\"\"\n",
    "    # Define the crop box (left, upper, right, lower)\n",
    "    crop_box = (506, 536, 580, 870)  # Replace these values with your desired dimensions\n",
    "\n",
    "    # Ensure the output folder exists\n",
    "    os.makedirs(output_folder, exist_ok=True)\n",
    "\n",
    "    # Iterate through all files in the input folder\n",
    "    for filename in os.listdir(input_folder):\n",
    "        if filename.lower().endswith('.png'):\n",
    "            input_path = os.path.join(input_folder, filename)\n",
    "            output_path = os.path.join(output_folder, filename)\n",
    "            \n",
    "            # Open the image file\n",
    "            with Image.open(input_path) as img:\n",
    "                # Crop the image using the provided crop box\n",
    "                cropped_img = img.crop(crop_box)\n",
    "                \n",
    "                # Save the cropped image\n",
    "                cropped_img.save(output_path)\n",
    "                \n",
    "            print(f'Cropped image saved to {output_path}')\n",
    "\n",
    "# Example usage\n",
    "input_folder = 'raw_data/sheet_images'\n",
    "output_folder = 'raw_data/cropped_images'\n",
    "crop_note_from_png_folder(input_folder, output_folder)"
   ]
  },
  {
   "cell_type": "markdown",
   "id": "c5ee26c0-fbd0-4b08-9941-6fa63f3c2394",
   "metadata": {},
   "source": [
    "# Cropper for lines 2-6 of sheet music"
   ]
  },
  {
   "cell_type": "code",
   "execution_count": null,
   "id": "354378fb-02d9-4c60-8636-2ab156725218",
   "metadata": {},
   "outputs": [],
   "source": [
    "import os\n",
    "from PIL import Image\n",
    "\n",
    "def crop_multiple_notes_from_png_folder(input_folder, output_folder, crop_boxes):\n",
    "    \"\"\"\n",
    "    Crops specified regions from PNG images in the given folder based on the provided crop boxes.\n",
    "\n",
    "    Parameters:\n",
    "    - input_folder (str): The path to the input folder containing PNG images.\n",
    "    - output_folder (str): The path to the folder to save the cropped images.\n",
    "    - crop_boxes (list of tuples): A list of tuples, where each tuple contains the crop box dimensions (left, upper, right, lower).\n",
    "    \"\"\"\n",
    "    # Ensure the output folder exists\n",
    "    os.makedirs(output_folder, exist_ok=True)\n",
    "\n",
    "    # Iterate through all files in the input folder\n",
    "    for filename in os.listdir(input_folder):\n",
    "        if filename.lower().endswith('.png'):\n",
    "            input_path = os.path.join(input_folder, filename)\n",
    "\n",
    "            # Open the image file\n",
    "            with Image.open(input_path) as img:\n",
    "                # Iterate through the crop boxes\n",
    "                for i, crop_box in enumerate(crop_boxes):\n",
    "                    # Crop the image using the current crop box\n",
    "                    cropped_img = img.crop(crop_box)\n",
    "                    \n",
    "                    # Define the output path for the cropped image\n",
    "                    output_path = os.path.join(output_folder, f\"{os.path.splitext(filename)[0]}_line_{i+1}.png\")\n",
    "                    \n",
    "                    # Save the cropped image\n",
    "                    cropped_img.save(output_path)\n",
    "                    \n",
    "                    print(f'Cropped image {i+1} saved to {output_path}')\n",
    "\n",
    "# Example usage\n",
    "input_folder = 'path/to/input_folder'\n",
    "output_folder = 'path/to/output_folder'\n",
    "\n",
    "# Define the crop boxes (left, upper, right, lower) for the 5 different lines of music\n",
    "crop_boxes = [\n",
    "    (316, 1016, 2762, 1380),  # First line\n",
    "    (316, 1532, 2762, 1896),  # Second line\n",
    "    (316, 2048, 2762, 2412),  # Third line\n",
    "    (316, 2562, 2762, 2926),  # Fourth line\n",
    "    (316, 3078, 2762, 3442)   # Fifth line\n",
    "]\n",
    "\n",
    "crop_multiple_notes_from_png_folder(input_folder, output_folder, crop_boxes)\n"
   ]
  },
  {
   "cell_type": "code",
   "execution_count": null,
   "id": "8b4f1c56-fd32-4454-8aaf-9e505baf1d52",
   "metadata": {},
   "outputs": [],
   "source": []
  }
 ],
 "metadata": {
  "kernelspec": {
   "display_name": "Python 3 (ipykernel)",
   "language": "python",
   "name": "python3"
  },
  "language_info": {
   "codemirror_mode": {
    "name": "ipython",
    "version": 3
   },
   "file_extension": ".py",
   "mimetype": "text/x-python",
   "name": "python",
   "nbconvert_exporter": "python",
   "pygments_lexer": "ipython3",
   "version": "3.10.6"
  }
 },
 "nbformat": 4,
 "nbformat_minor": 5
}
