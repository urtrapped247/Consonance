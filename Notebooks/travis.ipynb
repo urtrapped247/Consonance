{
 "cells": [
  {
   "cell_type": "markdown",
   "id": "e4f5a148-7d63-406b-85bf-d9d8e2a0dec4",
   "metadata": {},
   "source": [
    "# Parse .xml file to produce our y"
   ]
  },
  {
   "cell_type": "code",
   "execution_count": null,
   "id": "070f54a0-708b-4b52-8c32-eb9d2d86cd9d",
   "metadata": {},
   "outputs": [],
   "source": [
    "import xml.etree.ElementTree as ET\n",
    "\n",
    "# Function to parse the XML and get the note\n",
    "def get_note_from_xml(xml_path):\n",
    "    tree = ET.parse(xml_path)\n",
    "    root = tree.getroot()\n",
    "\n",
    "    # Assuming the XML structure has the note under 'note' tag\n",
    "    # Modify this according to your actual XML structure\n",
    "    note = root.find('.//note').text  # Adjust the XPath based on your XML structure\n",
    "    return note\n",
    "\n",
    "# Function to encode the note to a number\n",
    "def encode_note(note):\n",
    "    note_mapping = {\n",
    "        'C5': 0, 'D5': 1, 'E5': 2, 'F5': 3, 'G5': 4, 'A6': 5, 'B6': 6,\n",
    "        'B5': -1, 'A5': -2, 'G4': -3, 'F4': -4, 'E4': -5,\n",
    "        'D4': -6, 'C4': -7, 'B4': -8\n",
    "    }\n",
    "    return note_mapping.get(note, -1)  # Return -1 if note is not in mapping\n",
    "\n",
    "# Function to process the XML and get the encoded note\n",
    "def process_xml(xml_path):\n",
    "    note = get_note_from_xml(xml_path)\n",
    "    encoded_note = encode_note(note)\n",
    "    return encoded_note\n",
    "\n",
    "# Example usage\n",
    "xml_path = 'path/to/note.xml'\n",
    "encoded_note = process_xml(xml_path)\n",
    "print(f\"Encoded Note: {encoded_note}\")\n",
    "\n"
   ]
  },
  {
   "cell_type": "markdown",
   "id": "12621428-a938-4ed8-834d-fe7268cb80f8",
   "metadata": {},
   "source": [
    "# Crop images to produce X"
   ]
  },
  {
   "cell_type": "code",
   "execution_count": null,
   "id": "1a7d30d0-5e96-48d7-8fcd-94d3ce2b50c2",
   "metadata": {},
   "outputs": [],
   "source": [
    "from PIL import Image\n",
    "\n",
    "def crop_note_from_png(image_path, output_path):\n",
    "    \"\"\"\n",
    "    Crops the image to the specified dimensions.\n",
    "\n",
    "    Parameters:\n",
    "    - image_path (str): The path to the input PNG image.\n",
    "    - output_path (str): The path to save the cropped image.\n",
    "    \"\"\"\n",
    "    # Define the crop box (left, upper, right, lower)\n",
    "\n",
    "    crop_box = (506, 536, 580, 870)  # Replace these values with your desired dimensions\n",
    "\n",
    "    # Open the image file\n",
    "    with Image.open(image_path) as img:\n",
    "        # Crop the image using the provided crop box\n",
    "        cropped_img = img.crop(crop_box)\n",
    "\n",
    "        # Save the cropped image\n",
    "        cropped_img.save(output_path)\n",
    "\n",
    "# Example usage\n",
    "image_path = 'path/to/input_image.png'\n",
    "output_path = 'path/to/output_image.png'\n",
    "crop_note_from_png(image_path, output_path)\n"
   ]
  },
  {
   "cell_type": "markdown",
   "id": "d1cc6d4f-0cc9-4d39-b8ef-69fb407fbc42",
   "metadata": {},
   "source": [
    "# Cropper but every .png in a directory"
   ]
  },
  {
   "cell_type": "code",
   "execution_count": null,
   "id": "79f65f5b-1e0e-4d7d-9d42-b11ec4fdaac8",
   "metadata": {},
   "outputs": [],
   "source": [
    "import os\n",
    "from PIL import Image\n",
    "\n",
    "def crop_note_from_png_folder(input_folder, output_folder):\n",
    "    \"\"\"\n",
    "    Crops all PNG images in the specified folder to the specified dimensions.\n",
    "\n",
    "    Parameters:\n",
    "    - input_folder (str): The path to the input folder containing PNG images.\n",
    "    - output_folder (str): The path to the folder to save the cropped images.\n",
    "    \"\"\"\n",
    "    # Define the crop box (left, upper, right, lower)\n",
    "    crop_box = (506, 536, 580, 870)  # Replace these values with your desired dimensions\n",
    "\n",
    "    # Ensure the output folder exists\n",
    "    os.makedirs(output_folder, exist_ok=True)\n",
    "\n",
    "    # Iterate through all files in the input folder\n",
    "    for filename in os.listdir(input_folder):\n",
    "        if filename.lower().endswith('.png'):\n",
    "            input_path = os.path.join(input_folder, filename)\n",
    "            output_path = os.path.join(output_folder, filename)\n",
    "            \n",
    "            # Open the image file\n",
    "            with Image.open(input_path) as img:\n",
    "                # Crop the image using the provided crop box\n",
    "                cropped_img = img.crop(crop_box)\n",
    "                \n",
    "                # Save the cropped image\n",
    "                cropped_img.save(output_path)\n",
    "                \n",
    "            print(f'Cropped image saved to {output_path}')\n",
    "\n",
    "# Example usage\n",
    "input_folder = 'path/to/input_folder'\n",
    "output_folder = 'path/to/output_folder'\n",
    "crop_note_from_png_folder(input_folder, output_folder)"
   ]
  }
 ],
 "metadata": {
  "kernelspec": {
   "display_name": "Python 3 (ipykernel)",
   "language": "python",
   "name": "python3"
  },
  "language_info": {
   "codemirror_mode": {
    "name": "ipython",
    "version": 3
   },
   "file_extension": ".py",
   "mimetype": "text/x-python",
   "name": "python",
   "nbconvert_exporter": "python",
   "pygments_lexer": "ipython3",
   "version": "3.10.6"
  }
 },
 "nbformat": 4,
 "nbformat_minor": 5
}
