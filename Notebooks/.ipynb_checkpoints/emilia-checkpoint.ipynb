{
 "cells": [
  {
   "cell_type": "code",
   "execution_count": 1,
   "metadata": {},
   "outputs": [],
   "source": [
    "import cv2\n",
    "import numpy as np\n",
    "import glob\n",
    "import random\n",
    "from matplotlib import pyplot as plt\n"
   ]
  },
  {
   "cell_type": "code",
   "execution_count": null,
   "metadata": {},
   "outputs": [],
   "source": [
    "\n",
    "# Load images\n",
    "def load_images_from_folder(folder):\n",
    "    images = []\n",
    "    for filename in glob.glob(f'{folder}/*.png'):\n",
    "        img = cv2.imread(filename)\n",
    "        if img is not None:\n",
    "            images.append(img)\n",
    "    return images\n"
   ]
  },
  {
   "cell_type": "code",
   "execution_count": null,
   "metadata": {},
   "outputs": [],
   "source": [
    "\n",
    "# Grayscale conversion\n",
    "def convert_to_grayscale(images):\n",
    "    grayscale_images = []\n",
    "    for img in images:\n",
    "        gray = cv2.cvtColor(img, cv2.COLOR_BGR2GRAY)\n",
    "        grayscale_images.append(gray)\n",
    "    return grayscale_images\n",
    "\n",
    "# Noise reduction\n",
    "def reduce_noise(images):\n",
    "    denoised_images = []\n",
    "    for img in images:\n",
    "        denoised = cv2.GaussianBlur(img, (5, 5), 0)\n",
    "        denoised_images.append(denoised)\n",
    "    return denoised_images\n",
    "\n",
    "# Binarization\n",
    "def binarize_images(images):\n",
    "    binary_images = []\n",
    "    for img in images:\n",
    "        _, binary = cv2.threshold(img, 128, 255, cv2.THRESH_BINARY | cv2.THRESH_OTSU)\n",
    "        binary_images.append(binary)\n",
    "    return binary_images\n",
    "\n",
    "# Image augmentation\n",
    "def augment_image(image):\n",
    "    rows, cols = image.shape\n",
    "\n",
    "    # Rotation\n",
    "    angle = random.uniform(-5, 5)\n",
    "    M = cv2.getRotationMatrix2D((cols/2, rows/2), angle, 1)\n",
    "    rotated = cv2.warpAffine(image, M, (cols, rows))\n",
    "\n",
    "    # Scaling\n",
    "    scale = random.uniform(0.9, 1.1)\n",
    "    resized = cv2.resize(rotated, None, fx=scale, fy=scale)\n",
    "\n",
    "    # Translation\n",
    "    tx = random.randint(-5, 5)\n",
    "    ty = random.randint(-5, 5)\n",
    "    M = np.float32([[1, 0, tx], [0, 1, ty]])\n",
    "    translated = cv2.warpAffine(resized, M, (cols, rows))\n",
    "\n",
    "    # Shearing\n",
    "    shear = random.uniform(-0.1, 0.1)\n",
    "    M = np.float32([[1, shear, 0], [0, 1, 0]])\n",
    "    sheared = cv2.warpAffine(translated, M, (cols, rows))\n",
    "\n",
    "    # Noise addition\n",
    "    noise = np.random.randint(0, 50, (rows, cols), dtype='uint8')\n",
    "    noisy = cv2.add(sheared, noise)\n",
    "\n",
    "    # Blur\n",
    "    blurred = cv2.GaussianBlur(noisy, (5, 5), 0)\n",
    "\n",
    "    return blurred\n",
    "\n",
    "def augment_images(images):\n",
    "    augmented_images = []\n",
    "    for img in images:\n",
    "        augmented_images.append(augment_image(img))\n",
    "    return augmented_images\n"
   ]
  },
  {
   "cell_type": "code",
   "execution_count": null,
   "metadata": {},
   "outputs": [],
   "source": [
    "\n",
    "# Load images\n",
    "folder = 'path/to/your/image/folder'\n",
    "images = load_images_from_folder(folder)\n",
    "\n",
    "# Preprocess images\n",
    "grayscale_images = convert_to_grayscale(images)\n",
    "denoised_images = reduce_noise(grayscale_images)\n",
    "binary_images = binarize_images(denoised_images)\n",
    "\n",
    "# Augment images\n",
    "augmented_images = augment_images(binary_images)\n"
   ]
  },
  {
   "cell_type": "code",
   "execution_count": null,
   "metadata": {},
   "outputs": [],
   "source": [
    "\n",
    "# Display original and augmented images for comparison\n",
    "for i in range(5):\n",
    "    plt.subplot(2, 5, i+1)\n",
    "    plt.imshow(binary_images[i], cmap='gray')\n",
    "    plt.title('Original')\n",
    "    \n",
    "    plt.subplot(2, 5, i+6)\n",
    "    plt.imshow(augmented_images[i], cmap='gray')\n",
    "    plt.title('Augmented')\n",
    "\n",
    "plt.show()\n"
   ]
  },
  {
   "cell_type": "code",
   "execution_count": null,
   "metadata": {},
   "outputs": [],
   "source": []
  }
 ],
 "metadata": {
  "kernelspec": {
   "display_name": "consonance",
   "language": "python",
   "name": "python3"
  },
  "language_info": {
   "codemirror_mode": {
    "name": "ipython",
    "version": 3
   },
   "file_extension": ".py",
   "mimetype": "text/x-python",
   "name": "python",
   "nbconvert_exporter": "python",
   "pygments_lexer": "ipython3",
   "version": "3.10.6"
  }
 },
 "nbformat": 4,
 "nbformat_minor": 2
}
