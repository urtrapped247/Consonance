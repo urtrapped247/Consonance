{
 "cells": [
  {
   "cell_type": "code",
   "execution_count": 1,
   "metadata": {},
   "outputs": [],
   "source": [
    "%load_ext autoreload\n",
    "%autoreload 2"
   ]
  },
  {
   "cell_type": "code",
   "execution_count": 6,
   "metadata": {},
   "outputs": [],
   "source": [
    "\n",
    "import keras\n",
    "import tensorflow as tf\n",
    "import numpy as np\n",
    "\n",
    "from jiwer import wer\n",
    "\n",
    "import matplotlib.pyplot as plt\n",
    "\n",
    "from consonance.ml_logic.omr import build_model, ctc_decode, decode_batch_predictions, int_to_label, train_dataset, validation_dataset"
   ]
  },
  {
   "cell_type": "code",
   "execution_count": 3,
   "metadata": {},
   "outputs": [],
   "source": [
    "model = build_model()\n",
    "# model.summary()"
   ]
  },
  {
   "cell_type": "code",
   "execution_count": 4,
   "metadata": {},
   "outputs": [
    {
     "name": "stdout",
     "output_type": "stream",
     "text": [
      "Epoch 1/100\n",
      "\u001b[1m  2/563\u001b[0m \u001b[37m━━━━━━━━━━━━━━━━━━━━\u001b[0m \u001b[1m1:08\u001b[0m 121ms/step - loss: inf"
     ]
    },
    {
     "name": "stderr",
     "output_type": "stream",
     "text": [
      "2024-08-25 20:30:36.282409: W ./tensorflow/core/util/ctc/ctc_loss_calculator.h:499] No valid path found.\n",
      "2024-08-25 20:30:36.282453: W ./tensorflow/core/util/ctc/ctc_loss_calculator.h:499] No valid path found.\n",
      "2024-08-25 20:30:36.282555: W ./tensorflow/core/util/ctc/ctc_loss_calculator.h:499] No valid path found.\n",
      "2024-08-25 20:30:36.393964: W ./tensorflow/core/util/ctc/ctc_loss_calculator.h:499] No valid path found.\n",
      "2024-08-25 20:30:36.393989: W ./tensorflow/core/util/ctc/ctc_loss_calculator.h:499] No valid path found.\n",
      "2024-08-25 20:30:36.394040: W ./tensorflow/core/util/ctc/ctc_loss_calculator.h:499] No valid path found.\n",
      "2024-08-25 20:30:36.394055: W ./tensorflow/core/util/ctc/ctc_loss_calculator.h:499] No valid path found.\n",
      "2024-08-25 20:30:36.394073: W ./tensorflow/core/util/ctc/ctc_loss_calculator.h:499] No valid path found.\n",
      "2024-08-25 20:30:36.394134: W ./tensorflow/core/util/ctc/ctc_loss_calculator.h:499] No valid path found.\n",
      "2024-08-25 20:30:36.394138: W ./tensorflow/core/util/ctc/ctc_loss_calculator.h:499] No valid path found.\n"
     ]
    },
    {
     "name": "stdout",
     "output_type": "stream",
     "text": [
      "\u001b[1m  4/563\u001b[0m \u001b[37m━━━━━━━━━━━━━━━━━━━━\u001b[0m \u001b[1m1:09\u001b[0m 124ms/step - loss: inf"
     ]
    },
    {
     "name": "stderr",
     "output_type": "stream",
     "text": [
      "2024-08-25 20:30:36.516162: W ./tensorflow/core/util/ctc/ctc_loss_calculator.h:499] No valid path found.\n",
      "2024-08-25 20:30:36.516182: W ./tensorflow/core/util/ctc/ctc_loss_calculator.h:499] No valid path found.\n",
      "2024-08-25 20:30:36.516196: W ./tensorflow/core/util/ctc/ctc_loss_calculator.h:499] No valid path found.\n",
      "2024-08-25 20:30:36.516224: W ./tensorflow/core/util/ctc/ctc_loss_calculator.h:499] No valid path found.\n",
      "2024-08-25 20:30:36.516251: W ./tensorflow/core/util/ctc/ctc_loss_calculator.h:499] No valid path found.\n",
      "2024-08-25 20:30:36.516271: W ./tensorflow/core/util/ctc/ctc_loss_calculator.h:499] No valid path found.\n",
      "2024-08-25 20:30:36.516340: W ./tensorflow/core/util/ctc/ctc_loss_calculator.h:499] No valid path found.\n",
      "2024-08-25 20:30:36.643326: W ./tensorflow/core/util/ctc/ctc_loss_calculator.h:499] No valid path found.\n",
      "2024-08-25 20:30:36.643351: W ./tensorflow/core/util/ctc/ctc_loss_calculator.h:499] No valid path found.\n",
      "2024-08-25 20:30:36.643408: W ./tensorflow/core/util/ctc/ctc_loss_calculator.h:499] No valid path found.\n",
      "2024-08-25 20:30:36.643450: W ./tensorflow/core/util/ctc/ctc_loss_calculator.h:499] No valid path found.\n"
     ]
    },
    {
     "name": "stdout",
     "output_type": "stream",
     "text": [
      "\u001b[1m  6/563\u001b[0m \u001b[37m━━━━━━━━━━━━━━━━━━━━\u001b[0m \u001b[1m1:08\u001b[0m 122ms/step - loss: inf"
     ]
    },
    {
     "name": "stderr",
     "output_type": "stream",
     "text": [
      "2024-08-25 20:30:36.763061: W ./tensorflow/core/util/ctc/ctc_loss_calculator.h:499] No valid path found.\n",
      "2024-08-25 20:30:36.763079: W ./tensorflow/core/util/ctc/ctc_loss_calculator.h:499] No valid path found.\n",
      "2024-08-25 20:30:36.763091: W ./tensorflow/core/util/ctc/ctc_loss_calculator.h:499] No valid path found.\n",
      "2024-08-25 20:30:36.763149: W ./tensorflow/core/util/ctc/ctc_loss_calculator.h:499] No valid path found.\n",
      "2024-08-25 20:30:36.763157: W ./tensorflow/core/util/ctc/ctc_loss_calculator.h:499] No valid path found.\n",
      "2024-08-25 20:30:36.763191: W ./tensorflow/core/util/ctc/ctc_loss_calculator.h:499] No valid path found.\n",
      "2024-08-25 20:30:36.885180: W ./tensorflow/core/util/ctc/ctc_loss_calculator.h:499] No valid path found.\n",
      "2024-08-25 20:30:36.885307: W ./tensorflow/core/util/ctc/ctc_loss_calculator.h:499] No valid path found.\n",
      "2024-08-25 20:30:36.885374: W ./tensorflow/core/util/ctc/ctc_loss_calculator.h:499] No valid path found.\n"
     ]
    },
    {
     "name": "stdout",
     "output_type": "stream",
     "text": [
      "\u001b[1m  8/563\u001b[0m \u001b[37m━━━━━━━━━━━━━━━━━━━━\u001b[0m \u001b[1m1:08\u001b[0m 123ms/step - loss: inf"
     ]
    },
    {
     "name": "stderr",
     "output_type": "stream",
     "text": [
      "2024-08-25 20:30:37.009758: W ./tensorflow/core/util/ctc/ctc_loss_calculator.h:499] No valid path found.\n",
      "2024-08-25 20:30:37.009799: W ./tensorflow/core/util/ctc/ctc_loss_calculator.h:499] No valid path found.\n",
      "2024-08-25 20:30:37.009831: W ./tensorflow/core/util/ctc/ctc_loss_calculator.h:499] No valid path found.\n",
      "2024-08-25 20:30:37.009848: W ./tensorflow/core/util/ctc/ctc_loss_calculator.h:499] No valid path found.\n",
      "2024-08-25 20:30:37.009892: W ./tensorflow/core/util/ctc/ctc_loss_calculator.h:499] No valid path found.\n",
      "2024-08-25 20:30:37.009936: W ./tensorflow/core/util/ctc/ctc_loss_calculator.h:499] No valid path found.\n",
      "2024-08-25 20:30:37.134967: W ./tensorflow/core/util/ctc/ctc_loss_calculator.h:499] No valid path found.\n",
      "2024-08-25 20:30:37.134995: W ./tensorflow/core/util/ctc/ctc_loss_calculator.h:499] No valid path found.\n",
      "2024-08-25 20:30:37.135035: W ./tensorflow/core/util/ctc/ctc_loss_calculator.h:499] No valid path found.\n",
      "2024-08-25 20:30:37.135055: W ./tensorflow/core/util/ctc/ctc_loss_calculator.h:499] No valid path found.\n",
      "2024-08-25 20:30:37.135067: W ./tensorflow/core/util/ctc/ctc_loss_calculator.h:499] No valid path found.\n",
      "2024-08-25 20:30:37.135094: W ./tensorflow/core/util/ctc/ctc_loss_calculator.h:499] No valid path found.\n",
      "2024-08-25 20:30:37.135115: W ./tensorflow/core/util/ctc/ctc_loss_calculator.h:499] No valid path found.\n"
     ]
    },
    {
     "name": "stdout",
     "output_type": "stream",
     "text": [
      "\u001b[1m 10/563\u001b[0m \u001b[37m━━━━━━━━━━━━━━━━━━━━\u001b[0m \u001b[1m1:08\u001b[0m 125ms/step - loss: inf"
     ]
    },
    {
     "name": "stderr",
     "output_type": "stream",
     "text": [
      "2024-08-25 20:30:37.259846: W ./tensorflow/core/util/ctc/ctc_loss_calculator.h:499] No valid path found.\n",
      "2024-08-25 20:30:37.259874: W ./tensorflow/core/util/ctc/ctc_loss_calculator.h:499] No valid path found.\n",
      "2024-08-25 20:30:37.259923: W ./tensorflow/core/util/ctc/ctc_loss_calculator.h:499] No valid path found.\n",
      "2024-08-25 20:30:37.259935: W ./tensorflow/core/util/ctc/ctc_loss_calculator.h:499] No valid path found.\n",
      "2024-08-25 20:30:37.259949: W ./tensorflow/core/util/ctc/ctc_loss_calculator.h:499] No valid path found.\n",
      "2024-08-25 20:30:37.260007: W ./tensorflow/core/util/ctc/ctc_loss_calculator.h:499] No valid path found.\n",
      "2024-08-25 20:30:37.260030: W ./tensorflow/core/util/ctc/ctc_loss_calculator.h:499] No valid path found.\n",
      "2024-08-25 20:30:37.260037: W ./tensorflow/core/util/ctc/ctc_loss_calculator.h:499] No valid path found.\n",
      "2024-08-25 20:30:37.393150: W ./tensorflow/core/util/ctc/ctc_loss_calculator.h:499] No valid path found.\n",
      "2024-08-25 20:30:37.393173: W ./tensorflow/core/util/ctc/ctc_loss_calculator.h:499] No valid path found.\n",
      "2024-08-25 20:30:37.393186: W ./tensorflow/core/util/ctc/ctc_loss_calculator.h:499] No valid path found.\n",
      "2024-08-25 20:30:37.393210: W ./tensorflow/core/util/ctc/ctc_loss_calculator.h:499] No valid path found.\n"
     ]
    },
    {
     "name": "stdout",
     "output_type": "stream",
     "text": [
      "\u001b[1m 12/563\u001b[0m \u001b[37m━━━━━━━━━━━━━━━━━━━━\u001b[0m \u001b[1m1:09\u001b[0m 126ms/step - loss: inf"
     ]
    },
    {
     "name": "stderr",
     "output_type": "stream",
     "text": [
      "2024-08-25 20:30:37.520297: W ./tensorflow/core/util/ctc/ctc_loss_calculator.h:499] No valid path found.\n",
      "2024-08-25 20:30:37.520342: W ./tensorflow/core/util/ctc/ctc_loss_calculator.h:499] No valid path found.\n",
      "2024-08-25 20:30:37.520353: W ./tensorflow/core/util/ctc/ctc_loss_calculator.h:499] No valid path found.\n",
      "2024-08-25 20:30:37.520388: W ./tensorflow/core/util/ctc/ctc_loss_calculator.h:499] No valid path found.\n",
      "2024-08-25 20:30:37.520450: W ./tensorflow/core/util/ctc/ctc_loss_calculator.h:499] No valid path found.\n",
      "2024-08-25 20:30:37.520467: W ./tensorflow/core/util/ctc/ctc_loss_calculator.h:499] No valid path found.\n",
      "2024-08-25 20:30:37.520492: W ./tensorflow/core/util/ctc/ctc_loss_calculator.h:499] No valid path found.\n",
      "2024-08-25 20:30:37.647181: W ./tensorflow/core/util/ctc/ctc_loss_calculator.h:499] No valid path found.\n",
      "2024-08-25 20:30:37.647198: W ./tensorflow/core/util/ctc/ctc_loss_calculator.h:499] No valid path found.\n",
      "2024-08-25 20:30:37.647224: W ./tensorflow/core/util/ctc/ctc_loss_calculator.h:499] No valid path found.\n"
     ]
    },
    {
     "name": "stdout",
     "output_type": "stream",
     "text": [
      "\u001b[1m 14/563\u001b[0m \u001b[37m━━━━━━━━━━━━━━━━━━━━\u001b[0m \u001b[1m1:08\u001b[0m 126ms/step - loss: inf"
     ]
    },
    {
     "name": "stderr",
     "output_type": "stream",
     "text": [
      "2024-08-25 20:30:37.772798: W ./tensorflow/core/util/ctc/ctc_loss_calculator.h:499] No valid path found.\n",
      "2024-08-25 20:30:37.772886: W ./tensorflow/core/util/ctc/ctc_loss_calculator.h:499] No valid path found.\n",
      "2024-08-25 20:30:37.772897: W ./tensorflow/core/util/ctc/ctc_loss_calculator.h:499] No valid path found.\n",
      "2024-08-25 20:30:37.772916: W ./tensorflow/core/util/ctc/ctc_loss_calculator.h:499] No valid path found.\n",
      "2024-08-25 20:30:37.772923: W ./tensorflow/core/util/ctc/ctc_loss_calculator.h:499] No valid path found.\n",
      "2024-08-25 20:30:37.772957: W ./tensorflow/core/util/ctc/ctc_loss_calculator.h:499] No valid path found.\n",
      "2024-08-25 20:30:37.902020: W ./tensorflow/core/util/ctc/ctc_loss_calculator.h:499] No valid path found.\n",
      "2024-08-25 20:30:37.902044: W ./tensorflow/core/util/ctc/ctc_loss_calculator.h:499] No valid path found.\n",
      "2024-08-25 20:30:37.902074: W ./tensorflow/core/util/ctc/ctc_loss_calculator.h:499] No valid path found.\n",
      "2024-08-25 20:30:37.902090: W ./tensorflow/core/util/ctc/ctc_loss_calculator.h:499] No valid path found.\n",
      "2024-08-25 20:30:37.902152: W ./tensorflow/core/util/ctc/ctc_loss_calculator.h:499] No valid path found.\n",
      "2024-08-25 20:30:37.902168: W ./tensorflow/core/util/ctc/ctc_loss_calculator.h:499] No valid path found.\n"
     ]
    },
    {
     "name": "stdout",
     "output_type": "stream",
     "text": [
      "\u001b[1m 16/563\u001b[0m \u001b[37m━━━━━━━━━━━━━━━━━━━━\u001b[0m \u001b[1m1:08\u001b[0m 126ms/step - loss: inf"
     ]
    },
    {
     "name": "stderr",
     "output_type": "stream",
     "text": [
      "2024-08-25 20:30:38.031036: W ./tensorflow/core/util/ctc/ctc_loss_calculator.h:499] No valid path found.\n",
      "2024-08-25 20:30:38.031066: W ./tensorflow/core/util/ctc/ctc_loss_calculator.h:499] No valid path found.\n",
      "2024-08-25 20:30:38.031155: W ./tensorflow/core/util/ctc/ctc_loss_calculator.h:499] No valid path found.\n",
      "2024-08-25 20:30:38.031172: W ./tensorflow/core/util/ctc/ctc_loss_calculator.h:499] No valid path found.\n",
      "2024-08-25 20:30:38.159353: W ./tensorflow/core/util/ctc/ctc_loss_calculator.h:499] No valid path found.\n",
      "2024-08-25 20:30:38.159441: W ./tensorflow/core/util/ctc/ctc_loss_calculator.h:499] No valid path found.\n",
      "2024-08-25 20:30:38.159491: W ./tensorflow/core/util/ctc/ctc_loss_calculator.h:499] No valid path found.\n",
      "2024-08-25 20:30:38.159515: W ./tensorflow/core/util/ctc/ctc_loss_calculator.h:499] No valid path found.\n",
      "2024-08-25 20:30:38.159522: W ./tensorflow/core/util/ctc/ctc_loss_calculator.h:499] No valid path found.\n",
      "2024-08-25 20:30:38.159555: W ./tensorflow/core/util/ctc/ctc_loss_calculator.h:499] No valid path found.\n",
      "2024-08-25 20:30:38.159576: W ./tensorflow/core/util/ctc/ctc_loss_calculator.h:499] No valid path found.\n",
      "2024-08-25 20:30:38.159590: W ./tensorflow/core/util/ctc/ctc_loss_calculator.h:499] No valid path found.\n",
      "2024-08-25 20:30:38.159646: W ./tensorflow/core/util/ctc/ctc_loss_calculator.h:499] No valid path found.\n",
      "2024-08-25 20:30:38.159656: W ./tensorflow/core/util/ctc/ctc_loss_calculator.h:499] No valid path found.\n"
     ]
    },
    {
     "name": "stdout",
     "output_type": "stream",
     "text": [
      "\u001b[1m 18/563\u001b[0m \u001b[37m━━━━━━━━━━━━━━━━━━━━\u001b[0m \u001b[1m1:08\u001b[0m 126ms/step - loss: inf"
     ]
    },
    {
     "name": "stderr",
     "output_type": "stream",
     "text": [
      "2024-08-25 20:30:38.277696: W ./tensorflow/core/util/ctc/ctc_loss_calculator.h:499] No valid path found.\n",
      "2024-08-25 20:30:38.277717: W ./tensorflow/core/util/ctc/ctc_loss_calculator.h:499] No valid path found.\n",
      "2024-08-25 20:30:38.277732: W ./tensorflow/core/util/ctc/ctc_loss_calculator.h:499] No valid path found.\n",
      "2024-08-25 20:30:38.277744: W ./tensorflow/core/util/ctc/ctc_loss_calculator.h:499] No valid path found.\n",
      "2024-08-25 20:30:38.277823: W ./tensorflow/core/util/ctc/ctc_loss_calculator.h:499] No valid path found.\n",
      "2024-08-25 20:30:38.277856: W ./tensorflow/core/util/ctc/ctc_loss_calculator.h:499] No valid path found.\n",
      "2024-08-25 20:30:38.277872: W ./tensorflow/core/util/ctc/ctc_loss_calculator.h:499] No valid path found.\n",
      "2024-08-25 20:30:38.277880: W ./tensorflow/core/util/ctc/ctc_loss_calculator.h:499] No valid path found.\n",
      "2024-08-25 20:30:38.398463: W ./tensorflow/core/util/ctc/ctc_loss_calculator.h:499] No valid path found.\n",
      "2024-08-25 20:30:38.398563: W ./tensorflow/core/util/ctc/ctc_loss_calculator.h:499] No valid path found.\n",
      "2024-08-25 20:30:38.398579: W ./tensorflow/core/util/ctc/ctc_loss_calculator.h:499] No valid path found.\n"
     ]
    },
    {
     "name": "stdout",
     "output_type": "stream",
     "text": [
      "\u001b[1m 19/563\u001b[0m \u001b[37m━━━━━━━━━━━━━━━━━━━━\u001b[0m \u001b[1m1:08\u001b[0m 127ms/step - loss: inf"
     ]
    },
    {
     "name": "stderr",
     "output_type": "stream",
     "text": [
      "2024-08-25 20:30:38.546927: W ./tensorflow/core/util/ctc/ctc_loss_calculator.h:499] No valid path found.\n",
      "2024-08-25 20:30:38.546987: W ./tensorflow/core/util/ctc/ctc_loss_calculator.h:499] No valid path found.\n",
      "2024-08-25 20:30:38.547024: W ./tensorflow/core/util/ctc/ctc_loss_calculator.h:499] No valid path found.\n",
      "2024-08-25 20:30:38.672754: W ./tensorflow/core/util/ctc/ctc_loss_calculator.h:499] No valid path found.\n",
      "2024-08-25 20:30:38.672842: W ./tensorflow/core/util/ctc/ctc_loss_calculator.h:499] No valid path found.\n",
      "2024-08-25 20:30:38.672853: W ./tensorflow/core/util/ctc/ctc_loss_calculator.h:499] No valid path found.\n",
      "2024-08-25 20:30:38.672873: W ./tensorflow/core/util/ctc/ctc_loss_calculator.h:499] No valid path found.\n"
     ]
    },
    {
     "name": "stdout",
     "output_type": "stream",
     "text": [
      "\u001b[1m 22/563\u001b[0m \u001b[37m━━━━━━━━━━━━━━━━━━━━\u001b[0m \u001b[1m1:09\u001b[0m 128ms/step - loss: inf"
     ]
    },
    {
     "name": "stderr",
     "output_type": "stream",
     "text": [
      "2024-08-25 20:30:38.837143: W ./tensorflow/core/util/ctc/ctc_loss_calculator.h:499] No valid path found.\n",
      "2024-08-25 20:30:38.837176: W ./tensorflow/core/util/ctc/ctc_loss_calculator.h:499] No valid path found.\n",
      "2024-08-25 20:30:38.963105: W ./tensorflow/core/util/ctc/ctc_loss_calculator.h:499] No valid path found.\n",
      "2024-08-25 20:30:38.963135: W ./tensorflow/core/util/ctc/ctc_loss_calculator.h:499] No valid path found.\n",
      "2024-08-25 20:30:38.963150: W ./tensorflow/core/util/ctc/ctc_loss_calculator.h:499] No valid path found.\n",
      "2024-08-25 20:30:38.963206: W ./tensorflow/core/util/ctc/ctc_loss_calculator.h:499] No valid path found.\n",
      "2024-08-25 20:30:38.963215: W ./tensorflow/core/util/ctc/ctc_loss_calculator.h:499] No valid path found.\n",
      "2024-08-25 20:30:38.963226: W ./tensorflow/core/util/ctc/ctc_loss_calculator.h:499] No valid path found.\n",
      "2024-08-25 20:30:38.963297: W ./tensorflow/core/util/ctc/ctc_loss_calculator.h:499] No valid path found.\n",
      "2024-08-25 20:30:38.963431: W ./tensorflow/core/util/ctc/ctc_loss_calculator.h:499] No valid path found.\n"
     ]
    },
    {
     "name": "stdout",
     "output_type": "stream",
     "text": [
      "\u001b[1m 23/563\u001b[0m \u001b[37m━━━━━━━━━━━━━━━━━━━━\u001b[0m \u001b[1m1:09\u001b[0m 129ms/step - loss: inf"
     ]
    },
    {
     "name": "stderr",
     "output_type": "stream",
     "text": [
      "2024-08-25 20:30:39.096638: W ./tensorflow/core/util/ctc/ctc_loss_calculator.h:499] No valid path found.\n",
      "2024-08-25 20:30:39.096696: W ./tensorflow/core/util/ctc/ctc_loss_calculator.h:499] No valid path found.\n",
      "2024-08-25 20:30:39.096703: W ./tensorflow/core/util/ctc/ctc_loss_calculator.h:499] No valid path found.\n",
      "2024-08-25 20:30:39.096722: W ./tensorflow/core/util/ctc/ctc_loss_calculator.h:499] No valid path found.\n",
      "2024-08-25 20:30:39.096892: W ./tensorflow/core/util/ctc/ctc_loss_calculator.h:499] No valid path found.\n",
      "2024-08-25 20:30:39.232959: W ./tensorflow/core/util/ctc/ctc_loss_calculator.h:499] No valid path found.\n",
      "2024-08-25 20:30:39.233061: W ./tensorflow/core/util/ctc/ctc_loss_calculator.h:499] No valid path found.\n",
      "2024-08-25 20:30:39.233085: W ./tensorflow/core/util/ctc/ctc_loss_calculator.h:499] No valid path found.\n",
      "2024-08-25 20:30:39.233098: W ./tensorflow/core/util/ctc/ctc_loss_calculator.h:499] No valid path found.\n"
     ]
    },
    {
     "name": "stdout",
     "output_type": "stream",
     "text": [
      "\u001b[1m 25/563\u001b[0m \u001b[37m━━━━━━━━━━━━━━━━━━━━\u001b[0m \u001b[1m1:09\u001b[0m 130ms/step - loss: inf"
     ]
    },
    {
     "name": "stderr",
     "output_type": "stream",
     "text": [
      "2024-08-25 20:30:39.377727: W ./tensorflow/core/util/ctc/ctc_loss_calculator.h:499] No valid path found.\n",
      "2024-08-25 20:30:39.377748: W ./tensorflow/core/util/ctc/ctc_loss_calculator.h:499] No valid path found.\n",
      "2024-08-25 20:30:39.377766: W ./tensorflow/core/util/ctc/ctc_loss_calculator.h:499] No valid path found.\n",
      "2024-08-25 20:30:39.377785: W ./tensorflow/core/util/ctc/ctc_loss_calculator.h:499] No valid path found.\n",
      "2024-08-25 20:30:39.377825: W ./tensorflow/core/util/ctc/ctc_loss_calculator.h:499] No valid path found.\n",
      "2024-08-25 20:30:39.377843: W ./tensorflow/core/util/ctc/ctc_loss_calculator.h:499] No valid path found.\n",
      "2024-08-25 20:30:39.377854: W ./tensorflow/core/util/ctc/ctc_loss_calculator.h:499] No valid path found.\n",
      "2024-08-25 20:30:39.522291: W ./tensorflow/core/util/ctc/ctc_loss_calculator.h:499] No valid path found.\n",
      "2024-08-25 20:30:39.522353: W ./tensorflow/core/util/ctc/ctc_loss_calculator.h:499] No valid path found.\n",
      "2024-08-25 20:30:39.522367: W ./tensorflow/core/util/ctc/ctc_loss_calculator.h:499] No valid path found.\n",
      "2024-08-25 20:30:39.522374: W ./tensorflow/core/util/ctc/ctc_loss_calculator.h:499] No valid path found.\n",
      "2024-08-25 20:30:39.522387: W ./tensorflow/core/util/ctc/ctc_loss_calculator.h:499] No valid path found.\n",
      "2024-08-25 20:30:39.522398: W ./tensorflow/core/util/ctc/ctc_loss_calculator.h:499] No valid path found.\n"
     ]
    },
    {
     "name": "stdout",
     "output_type": "stream",
     "text": [
      "\u001b[1m 28/563\u001b[0m \u001b[37m━━━━━━━━━━━━━━━━━━━━\u001b[0m \u001b[1m1:09\u001b[0m 131ms/step - loss: inf"
     ]
    },
    {
     "name": "stderr",
     "output_type": "stream",
     "text": [
      "2024-08-25 20:30:39.660995: W ./tensorflow/core/util/ctc/ctc_loss_calculator.h:499] No valid path found.\n",
      "2024-08-25 20:30:39.661086: W ./tensorflow/core/util/ctc/ctc_loss_calculator.h:499] No valid path found.\n",
      "2024-08-25 20:30:39.661108: W ./tensorflow/core/util/ctc/ctc_loss_calculator.h:499] No valid path found.\n",
      "2024-08-25 20:30:39.661139: W ./tensorflow/core/util/ctc/ctc_loss_calculator.h:499] No valid path found.\n",
      "2024-08-25 20:30:39.792290: W ./tensorflow/core/util/ctc/ctc_loss_calculator.h:499] No valid path found.\n",
      "2024-08-25 20:30:39.792319: W ./tensorflow/core/util/ctc/ctc_loss_calculator.h:499] No valid path found.\n",
      "2024-08-25 20:30:39.792383: W ./tensorflow/core/util/ctc/ctc_loss_calculator.h:499] No valid path found.\n",
      "2024-08-25 20:30:39.792472: W ./tensorflow/core/util/ctc/ctc_loss_calculator.h:499] No valid path found.\n",
      "2024-08-25 20:30:39.792486: W ./tensorflow/core/util/ctc/ctc_loss_calculator.h:499] No valid path found.\n",
      "2024-08-25 20:30:39.792502: W ./tensorflow/core/util/ctc/ctc_loss_calculator.h:499] No valid path found.\n",
      "2024-08-25 20:30:39.792555: W ./tensorflow/core/util/ctc/ctc_loss_calculator.h:499] No valid path found.\n",
      "2024-08-25 20:30:39.792581: W ./tensorflow/core/util/ctc/ctc_loss_calculator.h:499] No valid path found.\n"
     ]
    },
    {
     "name": "stdout",
     "output_type": "stream",
     "text": [
      "\u001b[1m 29/563\u001b[0m \u001b[32m━\u001b[0m\u001b[37m━━━━━━━━━━━━━━━━━━━\u001b[0m \u001b[1m1:09\u001b[0m 131ms/step - loss: inf"
     ]
    },
    {
     "name": "stderr",
     "output_type": "stream",
     "text": [
      "2024-08-25 20:30:39.928890: W ./tensorflow/core/util/ctc/ctc_loss_calculator.h:499] No valid path found.\n",
      "2024-08-25 20:30:39.928975: W ./tensorflow/core/util/ctc/ctc_loss_calculator.h:499] No valid path found.\n",
      "2024-08-25 20:30:39.928983: W ./tensorflow/core/util/ctc/ctc_loss_calculator.h:499] No valid path found.\n",
      "2024-08-25 20:30:39.928990: W ./tensorflow/core/util/ctc/ctc_loss_calculator.h:499] No valid path found.\n",
      "2024-08-25 20:30:39.929013: W ./tensorflow/core/util/ctc/ctc_loss_calculator.h:499] No valid path found.\n",
      "2024-08-25 20:30:39.929061: W ./tensorflow/core/util/ctc/ctc_loss_calculator.h:499] No valid path found.\n",
      "2024-08-25 20:30:40.075238: W ./tensorflow/core/util/ctc/ctc_loss_calculator.h:499] No valid path found.\n",
      "2024-08-25 20:30:40.075348: W ./tensorflow/core/util/ctc/ctc_loss_calculator.h:499] No valid path found.\n",
      "2024-08-25 20:30:40.075432: W ./tensorflow/core/util/ctc/ctc_loss_calculator.h:499] No valid path found.\n"
     ]
    },
    {
     "name": "stdout",
     "output_type": "stream",
     "text": [
      "\u001b[1m 31/563\u001b[0m \u001b[32m━\u001b[0m\u001b[37m━━━━━━━━━━━━━━━━━━━\u001b[0m \u001b[1m1:10\u001b[0m 132ms/step - loss: inf"
     ]
    },
    {
     "name": "stderr",
     "output_type": "stream",
     "text": [
      "2024-08-25 20:30:40.212486: W ./tensorflow/core/util/ctc/ctc_loss_calculator.h:499] No valid path found.\n",
      "2024-08-25 20:30:40.212535: W ./tensorflow/core/util/ctc/ctc_loss_calculator.h:499] No valid path found.\n",
      "2024-08-25 20:30:40.212615: W ./tensorflow/core/util/ctc/ctc_loss_calculator.h:499] No valid path found.\n",
      "2024-08-25 20:30:40.212639: W ./tensorflow/core/util/ctc/ctc_loss_calculator.h:499] No valid path found.\n",
      "2024-08-25 20:30:40.354718: W ./tensorflow/core/util/ctc/ctc_loss_calculator.h:499] No valid path found.\n",
      "2024-08-25 20:30:40.354779: W ./tensorflow/core/util/ctc/ctc_loss_calculator.h:499] No valid path found.\n"
     ]
    },
    {
     "name": "stdout",
     "output_type": "stream",
     "text": [
      "\u001b[1m 32/563\u001b[0m \u001b[32m━\u001b[0m\u001b[37m━━━━━━━━━━━━━━━━━━━\u001b[0m \u001b[1m1:09\u001b[0m 132ms/step - loss: inf"
     ]
    },
    {
     "name": "stderr",
     "output_type": "stream",
     "text": [
      "2024-08-25 20:30:40.486343: W ./tensorflow/core/util/ctc/ctc_loss_calculator.h:499] No valid path found.\n",
      "2024-08-25 20:30:40.486406: W ./tensorflow/core/util/ctc/ctc_loss_calculator.h:499] No valid path found.\n",
      "2024-08-25 20:30:40.486441: W ./tensorflow/core/util/ctc/ctc_loss_calculator.h:499] No valid path found.\n",
      "2024-08-25 20:30:40.486485: W ./tensorflow/core/util/ctc/ctc_loss_calculator.h:499] No valid path found.\n",
      "2024-08-25 20:30:40.486516: W ./tensorflow/core/util/ctc/ctc_loss_calculator.h:499] No valid path found.\n"
     ]
    },
    {
     "ename": "KeyboardInterrupt",
     "evalue": "",
     "output_type": "error",
     "traceback": [
      "\u001b[0;31m---------------------------------------------------------------------------\u001b[0m",
      "\u001b[0;31mKeyboardInterrupt\u001b[0m                         Traceback (most recent call last)",
      "Cell \u001b[0;32mIn[4], line 9\u001b[0m\n\u001b[1;32m      4\u001b[0m early_stopping \u001b[38;5;241m=\u001b[39m keras\u001b[38;5;241m.\u001b[39mcallbacks\u001b[38;5;241m.\u001b[39mEarlyStopping(\n\u001b[1;32m      5\u001b[0m     monitor\u001b[38;5;241m=\u001b[39m\u001b[38;5;124m\"\u001b[39m\u001b[38;5;124mval_loss\u001b[39m\u001b[38;5;124m\"\u001b[39m, patience\u001b[38;5;241m=\u001b[39mearly_stopping_patience, restore_best_weights\u001b[38;5;241m=\u001b[39m\u001b[38;5;28;01mTrue\u001b[39;00m\n\u001b[1;32m      6\u001b[0m )\n\u001b[1;32m      8\u001b[0m \u001b[38;5;66;03m# Train the model\u001b[39;00m\n\u001b[0;32m----> 9\u001b[0m history \u001b[38;5;241m=\u001b[39m \u001b[43mmodel\u001b[49m\u001b[38;5;241;43m.\u001b[39;49m\u001b[43mfit\u001b[49m\u001b[43m(\u001b[49m\n\u001b[1;32m     10\u001b[0m \u001b[43m    \u001b[49m\u001b[43mtrain_dataset\u001b[49m\u001b[43m,\u001b[49m\n\u001b[1;32m     11\u001b[0m \u001b[43m    \u001b[49m\u001b[43mvalidation_data\u001b[49m\u001b[38;5;241;43m=\u001b[39;49m\u001b[43mvalidation_dataset\u001b[49m\u001b[43m,\u001b[49m\n\u001b[1;32m     12\u001b[0m \u001b[43m    \u001b[49m\u001b[43mepochs\u001b[49m\u001b[38;5;241;43m=\u001b[39;49m\u001b[43mepochs\u001b[49m\u001b[43m,\u001b[49m\n\u001b[1;32m     13\u001b[0m \u001b[43m    \u001b[49m\u001b[43mcallbacks\u001b[49m\u001b[38;5;241;43m=\u001b[39;49m\u001b[43m[\u001b[49m\u001b[43mearly_stopping\u001b[49m\u001b[43m]\u001b[49m\u001b[43m,\u001b[49m\n\u001b[1;32m     14\u001b[0m \u001b[43m)\u001b[49m\n",
      "File \u001b[0;32m~/.pyenv/versions/3.10.6/envs/Consonance/lib/python3.10/site-packages/keras/src/utils/traceback_utils.py:117\u001b[0m, in \u001b[0;36mfilter_traceback.<locals>.error_handler\u001b[0;34m(*args, **kwargs)\u001b[0m\n\u001b[1;32m    115\u001b[0m filtered_tb \u001b[38;5;241m=\u001b[39m \u001b[38;5;28;01mNone\u001b[39;00m\n\u001b[1;32m    116\u001b[0m \u001b[38;5;28;01mtry\u001b[39;00m:\n\u001b[0;32m--> 117\u001b[0m     \u001b[38;5;28;01mreturn\u001b[39;00m \u001b[43mfn\u001b[49m\u001b[43m(\u001b[49m\u001b[38;5;241;43m*\u001b[39;49m\u001b[43margs\u001b[49m\u001b[43m,\u001b[49m\u001b[43m \u001b[49m\u001b[38;5;241;43m*\u001b[39;49m\u001b[38;5;241;43m*\u001b[39;49m\u001b[43mkwargs\u001b[49m\u001b[43m)\u001b[49m\n\u001b[1;32m    118\u001b[0m \u001b[38;5;28;01mexcept\u001b[39;00m \u001b[38;5;167;01mException\u001b[39;00m \u001b[38;5;28;01mas\u001b[39;00m e:\n\u001b[1;32m    119\u001b[0m     filtered_tb \u001b[38;5;241m=\u001b[39m _process_traceback_frames(e\u001b[38;5;241m.\u001b[39m__traceback__)\n",
      "File \u001b[0;32m~/.pyenv/versions/3.10.6/envs/Consonance/lib/python3.10/site-packages/keras/src/backend/tensorflow/trainer.py:318\u001b[0m, in \u001b[0;36mTensorFlowTrainer.fit\u001b[0;34m(self, x, y, batch_size, epochs, verbose, callbacks, validation_split, validation_data, shuffle, class_weight, sample_weight, initial_epoch, steps_per_epoch, validation_steps, validation_batch_size, validation_freq)\u001b[0m\n\u001b[1;32m    316\u001b[0m \u001b[38;5;28;01mfor\u001b[39;00m step, iterator \u001b[38;5;129;01min\u001b[39;00m epoch_iterator\u001b[38;5;241m.\u001b[39menumerate_epoch():\n\u001b[1;32m    317\u001b[0m     callbacks\u001b[38;5;241m.\u001b[39mon_train_batch_begin(step)\n\u001b[0;32m--> 318\u001b[0m     logs \u001b[38;5;241m=\u001b[39m \u001b[38;5;28;43mself\u001b[39;49m\u001b[38;5;241;43m.\u001b[39;49m\u001b[43mtrain_function\u001b[49m\u001b[43m(\u001b[49m\u001b[43miterator\u001b[49m\u001b[43m)\u001b[49m\n\u001b[1;32m    319\u001b[0m     logs \u001b[38;5;241m=\u001b[39m \u001b[38;5;28mself\u001b[39m\u001b[38;5;241m.\u001b[39m_pythonify_logs(logs)\n\u001b[1;32m    320\u001b[0m     callbacks\u001b[38;5;241m.\u001b[39mon_train_batch_end(step, logs)\n",
      "File \u001b[0;32m~/.pyenv/versions/3.10.6/envs/Consonance/lib/python3.10/site-packages/tensorflow/python/util/traceback_utils.py:150\u001b[0m, in \u001b[0;36mfilter_traceback.<locals>.error_handler\u001b[0;34m(*args, **kwargs)\u001b[0m\n\u001b[1;32m    148\u001b[0m filtered_tb \u001b[38;5;241m=\u001b[39m \u001b[38;5;28;01mNone\u001b[39;00m\n\u001b[1;32m    149\u001b[0m \u001b[38;5;28;01mtry\u001b[39;00m:\n\u001b[0;32m--> 150\u001b[0m   \u001b[38;5;28;01mreturn\u001b[39;00m \u001b[43mfn\u001b[49m\u001b[43m(\u001b[49m\u001b[38;5;241;43m*\u001b[39;49m\u001b[43margs\u001b[49m\u001b[43m,\u001b[49m\u001b[43m \u001b[49m\u001b[38;5;241;43m*\u001b[39;49m\u001b[38;5;241;43m*\u001b[39;49m\u001b[43mkwargs\u001b[49m\u001b[43m)\u001b[49m\n\u001b[1;32m    151\u001b[0m \u001b[38;5;28;01mexcept\u001b[39;00m \u001b[38;5;167;01mException\u001b[39;00m \u001b[38;5;28;01mas\u001b[39;00m e:\n\u001b[1;32m    152\u001b[0m   filtered_tb \u001b[38;5;241m=\u001b[39m _process_traceback_frames(e\u001b[38;5;241m.\u001b[39m__traceback__)\n",
      "File \u001b[0;32m~/.pyenv/versions/3.10.6/envs/Consonance/lib/python3.10/site-packages/tensorflow/python/eager/polymorphic_function/polymorphic_function.py:833\u001b[0m, in \u001b[0;36mFunction.__call__\u001b[0;34m(self, *args, **kwds)\u001b[0m\n\u001b[1;32m    830\u001b[0m compiler \u001b[38;5;241m=\u001b[39m \u001b[38;5;124m\"\u001b[39m\u001b[38;5;124mxla\u001b[39m\u001b[38;5;124m\"\u001b[39m \u001b[38;5;28;01mif\u001b[39;00m \u001b[38;5;28mself\u001b[39m\u001b[38;5;241m.\u001b[39m_jit_compile \u001b[38;5;28;01melse\u001b[39;00m \u001b[38;5;124m\"\u001b[39m\u001b[38;5;124mnonXla\u001b[39m\u001b[38;5;124m\"\u001b[39m\n\u001b[1;32m    832\u001b[0m \u001b[38;5;28;01mwith\u001b[39;00m OptionalXlaContext(\u001b[38;5;28mself\u001b[39m\u001b[38;5;241m.\u001b[39m_jit_compile):\n\u001b[0;32m--> 833\u001b[0m   result \u001b[38;5;241m=\u001b[39m \u001b[38;5;28;43mself\u001b[39;49m\u001b[38;5;241;43m.\u001b[39;49m\u001b[43m_call\u001b[49m\u001b[43m(\u001b[49m\u001b[38;5;241;43m*\u001b[39;49m\u001b[43margs\u001b[49m\u001b[43m,\u001b[49m\u001b[43m \u001b[49m\u001b[38;5;241;43m*\u001b[39;49m\u001b[38;5;241;43m*\u001b[39;49m\u001b[43mkwds\u001b[49m\u001b[43m)\u001b[49m\n\u001b[1;32m    835\u001b[0m new_tracing_count \u001b[38;5;241m=\u001b[39m \u001b[38;5;28mself\u001b[39m\u001b[38;5;241m.\u001b[39mexperimental_get_tracing_count()\n\u001b[1;32m    836\u001b[0m without_tracing \u001b[38;5;241m=\u001b[39m (tracing_count \u001b[38;5;241m==\u001b[39m new_tracing_count)\n",
      "File \u001b[0;32m~/.pyenv/versions/3.10.6/envs/Consonance/lib/python3.10/site-packages/tensorflow/python/eager/polymorphic_function/polymorphic_function.py:878\u001b[0m, in \u001b[0;36mFunction._call\u001b[0;34m(self, *args, **kwds)\u001b[0m\n\u001b[1;32m    875\u001b[0m \u001b[38;5;28mself\u001b[39m\u001b[38;5;241m.\u001b[39m_lock\u001b[38;5;241m.\u001b[39mrelease()\n\u001b[1;32m    876\u001b[0m \u001b[38;5;66;03m# In this case we have not created variables on the first call. So we can\u001b[39;00m\n\u001b[1;32m    877\u001b[0m \u001b[38;5;66;03m# run the first trace but we should fail if variables are created.\u001b[39;00m\n\u001b[0;32m--> 878\u001b[0m results \u001b[38;5;241m=\u001b[39m \u001b[43mtracing_compilation\u001b[49m\u001b[38;5;241;43m.\u001b[39;49m\u001b[43mcall_function\u001b[49m\u001b[43m(\u001b[49m\n\u001b[1;32m    879\u001b[0m \u001b[43m    \u001b[49m\u001b[43margs\u001b[49m\u001b[43m,\u001b[49m\u001b[43m \u001b[49m\u001b[43mkwds\u001b[49m\u001b[43m,\u001b[49m\u001b[43m \u001b[49m\u001b[38;5;28;43mself\u001b[39;49m\u001b[38;5;241;43m.\u001b[39;49m\u001b[43m_variable_creation_config\u001b[49m\n\u001b[1;32m    880\u001b[0m \u001b[43m\u001b[49m\u001b[43m)\u001b[49m\n\u001b[1;32m    881\u001b[0m \u001b[38;5;28;01mif\u001b[39;00m \u001b[38;5;28mself\u001b[39m\u001b[38;5;241m.\u001b[39m_created_variables:\n\u001b[1;32m    882\u001b[0m   \u001b[38;5;28;01mraise\u001b[39;00m \u001b[38;5;167;01mValueError\u001b[39;00m(\u001b[38;5;124m\"\u001b[39m\u001b[38;5;124mCreating variables on a non-first call to a function\u001b[39m\u001b[38;5;124m\"\u001b[39m\n\u001b[1;32m    883\u001b[0m                    \u001b[38;5;124m\"\u001b[39m\u001b[38;5;124m decorated with tf.function.\u001b[39m\u001b[38;5;124m\"\u001b[39m)\n",
      "File \u001b[0;32m~/.pyenv/versions/3.10.6/envs/Consonance/lib/python3.10/site-packages/tensorflow/python/eager/polymorphic_function/tracing_compilation.py:139\u001b[0m, in \u001b[0;36mcall_function\u001b[0;34m(args, kwargs, tracing_options)\u001b[0m\n\u001b[1;32m    137\u001b[0m bound_args \u001b[38;5;241m=\u001b[39m function\u001b[38;5;241m.\u001b[39mfunction_type\u001b[38;5;241m.\u001b[39mbind(\u001b[38;5;241m*\u001b[39margs, \u001b[38;5;241m*\u001b[39m\u001b[38;5;241m*\u001b[39mkwargs)\n\u001b[1;32m    138\u001b[0m flat_inputs \u001b[38;5;241m=\u001b[39m function\u001b[38;5;241m.\u001b[39mfunction_type\u001b[38;5;241m.\u001b[39munpack_inputs(bound_args)\n\u001b[0;32m--> 139\u001b[0m \u001b[38;5;28;01mreturn\u001b[39;00m \u001b[43mfunction\u001b[49m\u001b[38;5;241;43m.\u001b[39;49m\u001b[43m_call_flat\u001b[49m\u001b[43m(\u001b[49m\u001b[43m  \u001b[49m\u001b[38;5;66;43;03m# pylint: disable=protected-access\u001b[39;49;00m\n\u001b[1;32m    140\u001b[0m \u001b[43m    \u001b[49m\u001b[43mflat_inputs\u001b[49m\u001b[43m,\u001b[49m\u001b[43m \u001b[49m\u001b[43mcaptured_inputs\u001b[49m\u001b[38;5;241;43m=\u001b[39;49m\u001b[43mfunction\u001b[49m\u001b[38;5;241;43m.\u001b[39;49m\u001b[43mcaptured_inputs\u001b[49m\n\u001b[1;32m    141\u001b[0m \u001b[43m\u001b[49m\u001b[43m)\u001b[49m\n",
      "File \u001b[0;32m~/.pyenv/versions/3.10.6/envs/Consonance/lib/python3.10/site-packages/tensorflow/python/eager/polymorphic_function/concrete_function.py:1322\u001b[0m, in \u001b[0;36mConcreteFunction._call_flat\u001b[0;34m(self, tensor_inputs, captured_inputs)\u001b[0m\n\u001b[1;32m   1318\u001b[0m possible_gradient_type \u001b[38;5;241m=\u001b[39m gradients_util\u001b[38;5;241m.\u001b[39mPossibleTapeGradientTypes(args)\n\u001b[1;32m   1319\u001b[0m \u001b[38;5;28;01mif\u001b[39;00m (possible_gradient_type \u001b[38;5;241m==\u001b[39m gradients_util\u001b[38;5;241m.\u001b[39mPOSSIBLE_GRADIENT_TYPES_NONE\n\u001b[1;32m   1320\u001b[0m     \u001b[38;5;129;01mand\u001b[39;00m executing_eagerly):\n\u001b[1;32m   1321\u001b[0m   \u001b[38;5;66;03m# No tape is watching; skip to running the function.\u001b[39;00m\n\u001b[0;32m-> 1322\u001b[0m   \u001b[38;5;28;01mreturn\u001b[39;00m \u001b[38;5;28;43mself\u001b[39;49m\u001b[38;5;241;43m.\u001b[39;49m\u001b[43m_inference_function\u001b[49m\u001b[38;5;241;43m.\u001b[39;49m\u001b[43mcall_preflattened\u001b[49m\u001b[43m(\u001b[49m\u001b[43margs\u001b[49m\u001b[43m)\u001b[49m\n\u001b[1;32m   1323\u001b[0m forward_backward \u001b[38;5;241m=\u001b[39m \u001b[38;5;28mself\u001b[39m\u001b[38;5;241m.\u001b[39m_select_forward_and_backward_functions(\n\u001b[1;32m   1324\u001b[0m     args,\n\u001b[1;32m   1325\u001b[0m     possible_gradient_type,\n\u001b[1;32m   1326\u001b[0m     executing_eagerly)\n\u001b[1;32m   1327\u001b[0m forward_function, args_with_tangents \u001b[38;5;241m=\u001b[39m forward_backward\u001b[38;5;241m.\u001b[39mforward()\n",
      "File \u001b[0;32m~/.pyenv/versions/3.10.6/envs/Consonance/lib/python3.10/site-packages/tensorflow/python/eager/polymorphic_function/atomic_function.py:216\u001b[0m, in \u001b[0;36mAtomicFunction.call_preflattened\u001b[0;34m(self, args)\u001b[0m\n\u001b[1;32m    214\u001b[0m \u001b[38;5;28;01mdef\u001b[39;00m \u001b[38;5;21mcall_preflattened\u001b[39m(\u001b[38;5;28mself\u001b[39m, args: Sequence[core\u001b[38;5;241m.\u001b[39mTensor]) \u001b[38;5;241m-\u001b[39m\u001b[38;5;241m>\u001b[39m Any:\n\u001b[1;32m    215\u001b[0m \u001b[38;5;250m  \u001b[39m\u001b[38;5;124;03m\"\"\"Calls with flattened tensor inputs and returns the structured output.\"\"\"\u001b[39;00m\n\u001b[0;32m--> 216\u001b[0m   flat_outputs \u001b[38;5;241m=\u001b[39m \u001b[38;5;28;43mself\u001b[39;49m\u001b[38;5;241;43m.\u001b[39;49m\u001b[43mcall_flat\u001b[49m\u001b[43m(\u001b[49m\u001b[38;5;241;43m*\u001b[39;49m\u001b[43margs\u001b[49m\u001b[43m)\u001b[49m\n\u001b[1;32m    217\u001b[0m   \u001b[38;5;28;01mreturn\u001b[39;00m \u001b[38;5;28mself\u001b[39m\u001b[38;5;241m.\u001b[39mfunction_type\u001b[38;5;241m.\u001b[39mpack_output(flat_outputs)\n",
      "File \u001b[0;32m~/.pyenv/versions/3.10.6/envs/Consonance/lib/python3.10/site-packages/tensorflow/python/eager/polymorphic_function/atomic_function.py:251\u001b[0m, in \u001b[0;36mAtomicFunction.call_flat\u001b[0;34m(self, *args)\u001b[0m\n\u001b[1;32m    249\u001b[0m \u001b[38;5;28;01mwith\u001b[39;00m record\u001b[38;5;241m.\u001b[39mstop_recording():\n\u001b[1;32m    250\u001b[0m   \u001b[38;5;28;01mif\u001b[39;00m \u001b[38;5;28mself\u001b[39m\u001b[38;5;241m.\u001b[39m_bound_context\u001b[38;5;241m.\u001b[39mexecuting_eagerly():\n\u001b[0;32m--> 251\u001b[0m     outputs \u001b[38;5;241m=\u001b[39m \u001b[38;5;28;43mself\u001b[39;49m\u001b[38;5;241;43m.\u001b[39;49m\u001b[43m_bound_context\u001b[49m\u001b[38;5;241;43m.\u001b[39;49m\u001b[43mcall_function\u001b[49m\u001b[43m(\u001b[49m\n\u001b[1;32m    252\u001b[0m \u001b[43m        \u001b[49m\u001b[38;5;28;43mself\u001b[39;49m\u001b[38;5;241;43m.\u001b[39;49m\u001b[43mname\u001b[49m\u001b[43m,\u001b[49m\n\u001b[1;32m    253\u001b[0m \u001b[43m        \u001b[49m\u001b[38;5;28;43mlist\u001b[39;49m\u001b[43m(\u001b[49m\u001b[43margs\u001b[49m\u001b[43m)\u001b[49m\u001b[43m,\u001b[49m\n\u001b[1;32m    254\u001b[0m \u001b[43m        \u001b[49m\u001b[38;5;28;43mlen\u001b[39;49m\u001b[43m(\u001b[49m\u001b[38;5;28;43mself\u001b[39;49m\u001b[38;5;241;43m.\u001b[39;49m\u001b[43mfunction_type\u001b[49m\u001b[38;5;241;43m.\u001b[39;49m\u001b[43mflat_outputs\u001b[49m\u001b[43m)\u001b[49m\u001b[43m,\u001b[49m\n\u001b[1;32m    255\u001b[0m \u001b[43m    \u001b[49m\u001b[43m)\u001b[49m\n\u001b[1;32m    256\u001b[0m   \u001b[38;5;28;01melse\u001b[39;00m:\n\u001b[1;32m    257\u001b[0m     outputs \u001b[38;5;241m=\u001b[39m make_call_op_in_graph(\n\u001b[1;32m    258\u001b[0m         \u001b[38;5;28mself\u001b[39m,\n\u001b[1;32m    259\u001b[0m         \u001b[38;5;28mlist\u001b[39m(args),\n\u001b[1;32m    260\u001b[0m         \u001b[38;5;28mself\u001b[39m\u001b[38;5;241m.\u001b[39m_bound_context\u001b[38;5;241m.\u001b[39mfunction_call_options\u001b[38;5;241m.\u001b[39mas_attrs(),\n\u001b[1;32m    261\u001b[0m     )\n",
      "File \u001b[0;32m~/.pyenv/versions/3.10.6/envs/Consonance/lib/python3.10/site-packages/tensorflow/python/eager/context.py:1552\u001b[0m, in \u001b[0;36mContext.call_function\u001b[0;34m(self, name, tensor_inputs, num_outputs)\u001b[0m\n\u001b[1;32m   1550\u001b[0m cancellation_context \u001b[38;5;241m=\u001b[39m cancellation\u001b[38;5;241m.\u001b[39mcontext()\n\u001b[1;32m   1551\u001b[0m \u001b[38;5;28;01mif\u001b[39;00m cancellation_context \u001b[38;5;129;01mis\u001b[39;00m \u001b[38;5;28;01mNone\u001b[39;00m:\n\u001b[0;32m-> 1552\u001b[0m   outputs \u001b[38;5;241m=\u001b[39m \u001b[43mexecute\u001b[49m\u001b[38;5;241;43m.\u001b[39;49m\u001b[43mexecute\u001b[49m\u001b[43m(\u001b[49m\n\u001b[1;32m   1553\u001b[0m \u001b[43m      \u001b[49m\u001b[43mname\u001b[49m\u001b[38;5;241;43m.\u001b[39;49m\u001b[43mdecode\u001b[49m\u001b[43m(\u001b[49m\u001b[38;5;124;43m\"\u001b[39;49m\u001b[38;5;124;43mutf-8\u001b[39;49m\u001b[38;5;124;43m\"\u001b[39;49m\u001b[43m)\u001b[49m\u001b[43m,\u001b[49m\n\u001b[1;32m   1554\u001b[0m \u001b[43m      \u001b[49m\u001b[43mnum_outputs\u001b[49m\u001b[38;5;241;43m=\u001b[39;49m\u001b[43mnum_outputs\u001b[49m\u001b[43m,\u001b[49m\n\u001b[1;32m   1555\u001b[0m \u001b[43m      \u001b[49m\u001b[43minputs\u001b[49m\u001b[38;5;241;43m=\u001b[39;49m\u001b[43mtensor_inputs\u001b[49m\u001b[43m,\u001b[49m\n\u001b[1;32m   1556\u001b[0m \u001b[43m      \u001b[49m\u001b[43mattrs\u001b[49m\u001b[38;5;241;43m=\u001b[39;49m\u001b[43mattrs\u001b[49m\u001b[43m,\u001b[49m\n\u001b[1;32m   1557\u001b[0m \u001b[43m      \u001b[49m\u001b[43mctx\u001b[49m\u001b[38;5;241;43m=\u001b[39;49m\u001b[38;5;28;43mself\u001b[39;49m\u001b[43m,\u001b[49m\n\u001b[1;32m   1558\u001b[0m \u001b[43m  \u001b[49m\u001b[43m)\u001b[49m\n\u001b[1;32m   1559\u001b[0m \u001b[38;5;28;01melse\u001b[39;00m:\n\u001b[1;32m   1560\u001b[0m   outputs \u001b[38;5;241m=\u001b[39m execute\u001b[38;5;241m.\u001b[39mexecute_with_cancellation(\n\u001b[1;32m   1561\u001b[0m       name\u001b[38;5;241m.\u001b[39mdecode(\u001b[38;5;124m\"\u001b[39m\u001b[38;5;124mutf-8\u001b[39m\u001b[38;5;124m\"\u001b[39m),\n\u001b[1;32m   1562\u001b[0m       num_outputs\u001b[38;5;241m=\u001b[39mnum_outputs,\n\u001b[0;32m   (...)\u001b[0m\n\u001b[1;32m   1566\u001b[0m       cancellation_manager\u001b[38;5;241m=\u001b[39mcancellation_context,\n\u001b[1;32m   1567\u001b[0m   )\n",
      "File \u001b[0;32m~/.pyenv/versions/3.10.6/envs/Consonance/lib/python3.10/site-packages/tensorflow/python/eager/execute.py:53\u001b[0m, in \u001b[0;36mquick_execute\u001b[0;34m(op_name, num_outputs, inputs, attrs, ctx, name)\u001b[0m\n\u001b[1;32m     51\u001b[0m \u001b[38;5;28;01mtry\u001b[39;00m:\n\u001b[1;32m     52\u001b[0m   ctx\u001b[38;5;241m.\u001b[39mensure_initialized()\n\u001b[0;32m---> 53\u001b[0m   tensors \u001b[38;5;241m=\u001b[39m \u001b[43mpywrap_tfe\u001b[49m\u001b[38;5;241;43m.\u001b[39;49m\u001b[43mTFE_Py_Execute\u001b[49m\u001b[43m(\u001b[49m\u001b[43mctx\u001b[49m\u001b[38;5;241;43m.\u001b[39;49m\u001b[43m_handle\u001b[49m\u001b[43m,\u001b[49m\u001b[43m \u001b[49m\u001b[43mdevice_name\u001b[49m\u001b[43m,\u001b[49m\u001b[43m \u001b[49m\u001b[43mop_name\u001b[49m\u001b[43m,\u001b[49m\n\u001b[1;32m     54\u001b[0m \u001b[43m                                      \u001b[49m\u001b[43minputs\u001b[49m\u001b[43m,\u001b[49m\u001b[43m \u001b[49m\u001b[43mattrs\u001b[49m\u001b[43m,\u001b[49m\u001b[43m \u001b[49m\u001b[43mnum_outputs\u001b[49m\u001b[43m)\u001b[49m\n\u001b[1;32m     55\u001b[0m \u001b[38;5;28;01mexcept\u001b[39;00m core\u001b[38;5;241m.\u001b[39m_NotOkStatusException \u001b[38;5;28;01mas\u001b[39;00m e:\n\u001b[1;32m     56\u001b[0m   \u001b[38;5;28;01mif\u001b[39;00m name \u001b[38;5;129;01mis\u001b[39;00m \u001b[38;5;129;01mnot\u001b[39;00m \u001b[38;5;28;01mNone\u001b[39;00m:\n",
      "\u001b[0;31mKeyboardInterrupt\u001b[0m: "
     ]
    }
   ],
   "source": [
    "epochs = 100\n",
    "early_stopping_patience = 10\n",
    "# Add early stopping\n",
    "early_stopping = keras.callbacks.EarlyStopping(\n",
    "    monitor=\"val_loss\", patience=early_stopping_patience, restore_best_weights=True\n",
    ")\n",
    "\n",
    "# Train the model\n",
    "history = model.fit(\n",
    "    train_dataset,\n",
    "    validation_data=validation_dataset,\n",
    "    epochs=epochs,\n",
    "    callbacks=[early_stopping],\n",
    ")"
   ]
  },
  {
   "cell_type": "code",
   "execution_count": null,
   "metadata": {},
   "outputs": [],
   "source": []
  },
  {
   "cell_type": "code",
   "execution_count": null,
   "metadata": {},
   "outputs": [],
   "source": []
  }
 ],
 "metadata": {
  "kernelspec": {
   "display_name": "Consonance",
   "language": "python",
   "name": "python3"
  },
  "language_info": {
   "codemirror_mode": {
    "name": "ipython",
    "version": 3
   },
   "file_extension": ".py",
   "mimetype": "text/x-python",
   "name": "python",
   "nbconvert_exporter": "python",
   "pygments_lexer": "ipython3",
   "version": "3.10.6"
  }
 },
 "nbformat": 4,
 "nbformat_minor": 2
}
