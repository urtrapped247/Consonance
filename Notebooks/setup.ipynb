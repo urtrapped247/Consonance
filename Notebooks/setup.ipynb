{
 "cells": [
  {
   "cell_type": "code",
   "execution_count": 2,
   "id": "761612d3-5b5f-42a7-9423-5f52618a2cf8",
   "metadata": {},
   "outputs": [],
   "source": [
    "import random\n",
    "from music21 import note, stream, converter, environment\n",
    "from PIL import Image\n",
    "import os"
   ]
  },
  {
   "cell_type": "code",
   "execution_count": 3,
   "id": "9ef2d623-bcf4-4e42-b271-684f22cc6436",
   "metadata": {},
   "outputs": [],
   "source": [
    "from music21 import stream, note, duration, pitch, metadata, clef\n",
    "import os\n",
    "import random\n",
    "import warnings\n",
    "from music21.musicxml import m21ToXml\n",
    "\n",
    "# Suppress annoying MusicXMLWarning\n",
    "warnings.filterwarnings(\"ignore\", category=m21ToXml.MusicXMLWarning)\n",
    "\n",
    "def generate_random_note():\n",
    "    # Define a list of possible pitches and durations\n",
    "    pitches = ['C4', 'D4', 'E4', 'F4', 'G4', 'A4', 'B4', 'C5', 'D5', 'E5', 'F5', 'G5']\n",
    "    durations = ['whole', 'half', 'quarter', 'eighth', '16th']\n",
    "\n",
    "    # Select a random pitch and duration\n",
    "    selected_pitch = random.choice(pitches)\n",
    "    selected_duration = random.choice(durations)\n",
    "\n",
    "    # Create and return a music21 note\n",
    "    n = note.Note()\n",
    "    n.pitch = pitch.Pitch(selected_pitch)\n",
    "    n.duration = duration.Duration(selected_duration)\n",
    "    return n\n",
    "\n",
    "\n",
    "def generate_synthetic_musicxml(num_samples=10, output_folder='../raw_data/generated_music'):\n",
    "    # check for output - Use this for .py\n",
    "        # output_folder = os.path.join(os.path.dirname(__file__), os.pardir, 'musicxml_files')\n",
    "        # if not os.path.exists(output_folder):\n",
    "        #     os.makedirs(output_folder)\n",
    "\n",
    "    #for our notebook since __file__ seems to not work\n",
    "    current_dir = os.getcwd()\n",
    "    output_folder = os.path.abspath(os.path.join(current_dir, output_folder))\n",
    "    if not os.path.exists(output_folder):\n",
    "        os.makedirs(output_folder)\n",
    "\n",
    "    synthetic_data = []\n",
    "\n",
    "    for i in range(num_samples):\n",
    "        m = stream.Measure()\n",
    "        total_duration = 0.0    # we are using a 4/4 measure\n",
    "\n",
    "        # build out the measure\n",
    "        while total_duration < 4.0:\n",
    "            n = generate_random_note()\n",
    "            if total_duration + n.duration.quarterLength <= 4.0:\n",
    "                m.append(n)\n",
    "                total_duration += n.duration.quarterLength\n",
    "            else:\n",
    "                break\n",
    "\n",
    "        # create the score and append the measure\n",
    "        s = stream.Score()\n",
    "        s.append(m)\n",
    "        s.metadata = metadata.Metadata()\n",
    "        s.metadata.title = ''\n",
    "\n",
    "        # write the score to MusicXML\n",
    "        s.write('musicxml', fp=f'{output_folder}/sheet_{i}.musicxml')\n",
    "        synthetic_data.append(s)\n",
    "\n",
    "    return synthetic_data"
   ]
  },
  {
   "cell_type": "code",
   "execution_count": null,
   "id": "f8a13122-aaf6-4b13-b8cf-3605994c10b5",
   "metadata": {},
   "outputs": [],
   "source": [
    "synthetic_data = generate_synthetic_musicxml()"
   ]
  },
  {
   "cell_type": "code",
   "execution_count": 4,
   "id": "7990aa65-468a-40e7-a9db-f74125cae48d",
   "metadata": {},
   "outputs": [],
   "source": [
    "import subprocess\n",
    "import platform\n",
    "\n",
    "# get the right path for musescore based on system\n",
    "def get_musescore_path():\n",
    "    system = platform.system()\n",
    "    if system == 'Windows':\n",
    "        return r'C:\\Program Files\\MuseScore 4\\bin\\MuseScore4.exe'  # Update this path if necessary\n",
    "    elif system == 'Darwin':  # macOS\n",
    "        return '/Applications/MuseScore 4.app/Contents/MacOS/mscore'\n",
    "    elif system == 'Linux':\n",
    "        return '/usr/bin/musescore4'  # Update this path if necessary\n",
    "    else:\n",
    "        raise ValueError(\"Unsupported operating system\")\n",
    "\n",
    "\n",
    "def convert_musicxml_to_png(input_folder='../raw_data/generated_music', output_folder='../raw_data/sheet_images'):\n",
    "    current_dir = os.getcwd()\n",
    "    input_folder = os.path.abspath(os.path.join(current_dir, input_folder))\n",
    "    output_folder = os.path.abspath(os.path.join(current_dir, output_folder))\n",
    "    if not os.path.exists(output_folder):\n",
    "        os.makedirs(output_folder)\n",
    "\n",
    "    musescore_path = get_musescore_path()\n",
    "\n",
    "    for file_name in os.listdir(input_folder):\n",
    "        if file_name.endswith('.musicxml'):\n",
    "            input_path = os.path.join(input_folder, file_name)\n",
    "            output_path = os.path.join(output_folder, file_name.replace('.musicxml', '.png'))\n",
    "            result = subprocess.run([musescore_path, input_path, '-o', output_path], stderr=subprocess.PIPE)\n",
    "            if result.returncode != 0:\n",
    "                # Handle or log the error if needed\n",
    "                print(f\"Error processing {file_name}: {result.stderr.decode('utf-8')}\")\n",
    "\n",
    "    return None"
   ]
  },
  {
   "cell_type": "code",
   "execution_count": null,
   "id": "c49caaff-684c-4617-a8ee-4b86c11424c3",
   "metadata": {},
   "outputs": [],
   "source": [
    "convert_musicxml_to_png()"
   ]
  },
  {
   "cell_type": "code",
   "execution_count": 5,
   "id": "732f7eb2-d50a-4946-b8c8-22dc3fba74f3",
   "metadata": {},
   "outputs": [],
   "source": [
    "import json\n",
    "\n",
    "def generate_labels(synthetic_data, output_folder='../data/labels'):\n",
    "    current_dir = os.getcwd()\n",
    "    output_folder = os.path.abspath(os.path.join(current_dir, output_folder))\n",
    "    if not os.path.exists(output_folder):\n",
    "        os.makedirs(output_folder)\n",
    "\n",
    "    for i, s in enumerate(synthetic_data):\n",
    "        labels = {\"symbols\": []}\n",
    "        for element in s.notes:\n",
    "            labels[\"symbols\"].append({\n",
    "                \"type\": element.duration.type,\n",
    "                \"pitch\": element.pitch.nameWithOctave,\n",
    "                \"position\": [element.offset, 0]  # Simplified position\n",
    "            })\n",
    "        with open(f'{output_folder}/label_{i}.json', 'w') as f:\n",
    "            json.dump(labels, f, indent=4)\n"
   ]
  },
  {
   "cell_type": "code",
   "execution_count": null,
   "id": "7cc1f0ab-d660-40ec-b607-4b43e8611f02",
   "metadata": {},
   "outputs": [],
   "source": [
    "# Generate labels for the synthetic data\n",
    "generate_labels(synthetic_data)"
   ]
  },
  {
   "cell_type": "code",
   "execution_count": null,
   "id": "d653226e-aa11-469c-81d1-47b10a037d98",
   "metadata": {},
   "outputs": [],
   "source": []
  },
  {
   "cell_type": "code",
   "execution_count": null,
   "id": "5ab88ce4-6fa0-4b4b-adb5-497631df2df0",
   "metadata": {},
   "outputs": [],
   "source": []
  },
  {
   "cell_type": "code",
   "execution_count": null,
   "id": "4d2a80d7-dc30-48df-983b-0deb004c9967",
   "metadata": {},
   "outputs": [],
   "source": []
  },
  {
   "cell_type": "code",
   "execution_count": null,
   "id": "8aa35f72-bc65-481c-a7f7-d69b666cda4a",
   "metadata": {},
   "outputs": [],
   "source": []
  },
  {
   "cell_type": "code",
   "execution_count": null,
   "id": "a714d437-9089-47bf-aecb-55c0d48e1a96",
   "metadata": {},
   "outputs": [],
   "source": []
  },
  {
   "cell_type": "code",
   "execution_count": null,
   "id": "f5566c6e-7937-41b7-832e-1a1b3a86c855",
   "metadata": {},
   "outputs": [],
   "source": []
  }
 ],
 "metadata": {
  "kernelspec": {
   "display_name": "Python 3 (ipykernel)",
   "language": "python",
   "name": "python3"
  },
  "language_info": {
   "codemirror_mode": {
    "name": "ipython",
    "version": 3
   },
   "file_extension": ".py",
   "mimetype": "text/x-python",
   "name": "python",
   "nbconvert_exporter": "python",
   "pygments_lexer": "ipython3",
   "version": "3.10.6"
  }
 },
 "nbformat": 4,
 "nbformat_minor": 5
}
