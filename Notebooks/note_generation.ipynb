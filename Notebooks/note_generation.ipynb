{
 "cells": [
  {
   "cell_type": "code",
   "execution_count": 19,
   "metadata": {},
   "outputs": [],
   "source": [
    "import random\n",
    "from music21 import note, stream, converter, environment\n",
    "from PIL import Image\n",
    "import os"
   ]
  },
  {
   "cell_type": "markdown",
   "metadata": {},
   "source": [
    "#### Expanded pitches that can be used instead of what is in the /generate_random_note/ function"
   ]
  },
  {
   "cell_type": "code",
   "execution_count": 20,
   "metadata": {},
   "outputs": [],
   "source": [
    "# Define the range of pitches and note durations\n",
    "pitches = [\n",
    "    'C3', 'C#3', 'Db3', 'D3', 'D#3', 'Eb3', 'E3', 'F3', 'F#3', 'Gb3', 'G3', 'G#3', 'Ab3', 'A3', 'A#3', 'Bb3', 'B3',\n",
    "    'C4', 'C#4', 'Db4', 'D4', 'D#4', 'Eb4', 'E4', 'F4', 'F#4', 'Gb4', 'G4', 'G#4', 'Ab4', 'A4', 'A#4', 'Bb4', 'B4',\n",
    "    'C5', 'C#5', 'Db5', 'D5', 'D#5', 'Eb5', 'E5'\n",
    "]\n",
    "durations = ['whole', 'half', 'quarter', 'eighth', '16th']\n"
   ]
  },
  {
   "cell_type": "markdown",
   "metadata": {},
   "source": [
    "# Create a way to generate music"
   ]
  },
  {
   "cell_type": "markdown",
   "metadata": {},
   "source": [
    "## Generate Synthetic MusicXML"
   ]
  },
  {
   "cell_type": "code",
   "execution_count": 27,
   "metadata": {},
   "outputs": [],
   "source": [
    "from music21 import stream, note, duration, pitch, metadata, clef\n",
    "import os\n",
    "import random\n",
    "import warnings\n",
    "from music21.musicxml import m21ToXml\n",
    "\n",
    "# Suppress annoying MusicXMLWarning\n",
    "warnings.filterwarnings(\"ignore\", category=m21ToXml.MusicXMLWarning)\n",
    "\n",
    "def generate_random_note():\n",
    "    # Define a list of possible pitches and durations\n",
    "    pitches = ['C4', 'D4', 'E4', 'F4', 'G4', 'A4', 'B4', 'C5', 'D5', 'E5', 'F5', 'G5']\n",
    "    durations = ['whole', 'half', 'quarter', 'eighth', '16th']\n",
    "\n",
    "    # Select a random pitch and duration\n",
    "    selected_pitch = random.choice(pitches)\n",
    "    selected_duration = random.choice(durations)\n",
    "\n",
    "    # Create and return a music21 note\n",
    "    n = note.Note()\n",
    "    n.pitch = pitch.Pitch(selected_pitch)\n",
    "    n.duration = duration.Duration(selected_duration)\n",
    "    return n\n",
    "\n",
    "\n",
    "def generate_synthetic_musicxml(num_samples=10, output_folder='../raw_data/generated_music'):\n",
    "    # check for output - Use this for .py\n",
    "        # output_folder = os.path.join(os.path.dirname(__file__), os.pardir, 'musicxml_files')\n",
    "        # if not os.path.exists(output_folder):\n",
    "        #     os.makedirs(output_folder)\n",
    "\n",
    "    #for our notebook since __file__ seems to not work\n",
    "    current_dir = os.getcwd()\n",
    "    output_folder = os.path.abspath(os.path.join(current_dir, output_folder))\n",
    "    if not os.path.exists(output_folder):\n",
    "        os.makedirs(output_folder)\n",
    "\n",
    "    synthetic_data = []\n",
    "\n",
    "    for i in range(num_samples):\n",
    "        m = stream.Measure()\n",
    "        total_duration = 0.0    # we are using a 4/4 measure\n",
    "\n",
    "        # build out the measure\n",
    "        while total_duration < 4.0:\n",
    "            n = generate_random_note()\n",
    "            if total_duration + n.duration.quarterLength <= 4.0:\n",
    "                m.append(n)\n",
    "                total_duration += n.duration.quarterLength\n",
    "            else:\n",
    "                break\n",
    "\n",
    "        # create the score and append the measure\n",
    "        s = stream.Score()\n",
    "        s.append(m)\n",
    "        s.metadata = metadata.Metadata()\n",
    "        s.metadata.title = ''\n",
    "\n",
    "        # write the score to MusicXML\n",
    "        s.write('musicxml', fp=f'{output_folder}/sheet_{i}.musicxml')\n",
    "        synthetic_data.append(s)\n",
    "\n",
    "    return synthetic_data"
   ]
  },
  {
   "cell_type": "code",
   "execution_count": 25,
   "metadata": {},
   "outputs": [],
   "source": [
    "synthetic_data = generate_synthetic_musicxml()\n"
   ]
  },
  {
   "cell_type": "markdown",
   "metadata": {},
   "source": [
    "## Convert the XML score to a PNG image file\n"
   ]
  },
  {
   "cell_type": "code",
   "execution_count": 5,
   "metadata": {},
   "outputs": [],
   "source": [
    "import subprocess\n",
    "import platform\n",
    "import os\n",
    "\n",
    "\n",
    "# get the right path for musescore based on system\n",
    "def get_musescore_path():\n",
    "    system = platform.system()\n",
    "    if system == 'Windows':\n",
    "        return r'C:\\Program Files\\MuseScore 4\\bin\\MuseScore4.exe'  # Update this path if necessary\n",
    "    elif system == 'Darwin':  # macOS\n",
    "        return '/Applications/MuseScore 4.app/Contents/MacOS/mscore'\n",
    "    elif system == 'Linux':\n",
    "        return '/usr/bin/musescore4'  # Update this path if necessary\n",
    "    else:\n",
    "        raise ValueError(\"Unsupported operating system\")\n",
    "\n",
    "\n",
    "def convert_musicxml_to_png(input_folder='../raw_data/generated_music', output_folder='../raw_data/sheet_images'):\n",
    "    current_dir = os.getcwd()\n",
    "    input_folder = os.path.abspath(os.path.join(current_dir, input_folder))\n",
    "    output_folder = os.path.abspath(os.path.join(current_dir, output_folder))\n",
    "    if not os.path.exists(output_folder):\n",
    "        os.makedirs(output_folder)\n",
    "\n",
    "    musescore_path = get_musescore_path()\n",
    "\n",
    "    for file_name in os.listdir(input_folder):\n",
    "        if file_name.endswith('.musicxml'):\n",
    "            input_path = os.path.join(input_folder, file_name)\n",
    "            output_path = os.path.join(output_folder, file_name.replace('.musicxml', '.png'))\n",
    "            result = subprocess.run([musescore_path, input_path, '-o', output_path], stderr=subprocess.PIPE)\n",
    "            if result.returncode != 0:\n",
    "                # Handle or log the error if needed\n",
    "                print(f\"Error processing {file_name}: {result.stderr.decode('utf-8')}\")\n",
    "\n",
    "    return None"
   ]
  },
  {
   "cell_type": "code",
   "execution_count": 26,
   "metadata": {},
   "outputs": [],
   "source": [
    "convert_musicxml_to_png()"
   ]
  },
  {
   "cell_type": "markdown",
   "metadata": {},
   "source": [
    "## Generate Labels for the Y \n"
   ]
  },
  {
   "cell_type": "code",
   "execution_count": 29,
   "metadata": {},
   "outputs": [],
   "source": [
    "import json\n",
    "import os\n",
    "\n",
    "def generate_labels(synthetic_data, output_folder='../data/labels'):\n",
    "    current_dir = os.getcwd()\n",
    "    output_folder = os.path.abspath(os.path.join(current_dir, output_folder))\n",
    "    if not os.path.exists(output_folder):\n",
    "        os.makedirs(output_folder)\n",
    "\n",
    "    for i, s in enumerate(synthetic_data):\n",
    "        labels = {\"symbols\": []}\n",
    "        for element in s.notes:\n",
    "            labels[\"symbols\"].append({\n",
    "                \"type\": element.duration.type,\n",
    "                \"pitch\": element.pitch.nameWithOctave,\n",
    "                \"position\": [element.offset, 0]  # Simplified position\n",
    "            })\n",
    "        with open(f'{output_folder}/label_{i}.json', 'w') as f:\n",
    "            json.dump(labels, f, indent=4)\n"
   ]
  },
  {
   "cell_type": "code",
   "execution_count": 30,
   "metadata": {},
   "outputs": [],
   "source": [
    "# Generate labels for the synthetic data\n",
    "generate_labels(synthetic_data)"
   ]
  },
  {
   "cell_type": "code",
   "execution_count": 31,
   "metadata": {},
   "outputs": [
    {
     "data": {
      "text/html": [
       "<div>\n",
       "<style scoped>\n",
       "    .dataframe tbody tr th:only-of-type {\n",
       "        vertical-align: middle;\n",
       "    }\n",
       "\n",
       "    .dataframe tbody tr th {\n",
       "        vertical-align: top;\n",
       "    }\n",
       "\n",
       "    .dataframe thead th {\n",
       "        text-align: right;\n",
       "    }\n",
       "</style>\n",
       "<table border=\"1\" class=\"dataframe\">\n",
       "  <thead>\n",
       "    <tr style=\"text-align: right;\">\n",
       "      <th></th>\n",
       "      <th>symbols</th>\n",
       "    </tr>\n",
       "  </thead>\n",
       "  <tbody>\n",
       "    <tr>\n",
       "      <th>0</th>\n",
       "      <td>{'type': 'eighth', 'pitch': 'B4', 'position': ...</td>\n",
       "    </tr>\n",
       "    <tr>\n",
       "      <th>1</th>\n",
       "      <td>{'type': 'whole', 'pitch': 'A4', 'position': [...</td>\n",
       "    </tr>\n",
       "    <tr>\n",
       "      <th>2</th>\n",
       "      <td>{'type': '16th', 'pitch': 'C5', 'position': [4...</td>\n",
       "    </tr>\n",
       "    <tr>\n",
       "      <th>3</th>\n",
       "      <td>{'type': 'half', 'pitch': 'D4', 'position': [4...</td>\n",
       "    </tr>\n",
       "    <tr>\n",
       "      <th>4</th>\n",
       "      <td>{'type': '16th', 'pitch': 'C4', 'position': [6...</td>\n",
       "    </tr>\n",
       "    <tr>\n",
       "      <th>5</th>\n",
       "      <td>{'type': '16th', 'pitch': 'D4', 'position': [7...</td>\n",
       "    </tr>\n",
       "    <tr>\n",
       "      <th>6</th>\n",
       "      <td>{'type': 'whole', 'pitch': 'E4', 'position': [...</td>\n",
       "    </tr>\n",
       "    <tr>\n",
       "      <th>7</th>\n",
       "      <td>{'type': 'quarter', 'pitch': 'F4', 'position':...</td>\n",
       "    </tr>\n",
       "    <tr>\n",
       "      <th>8</th>\n",
       "      <td>{'type': 'eighth', 'pitch': 'F4', 'position': ...</td>\n",
       "    </tr>\n",
       "    <tr>\n",
       "      <th>9</th>\n",
       "      <td>{'type': 'whole', 'pitch': 'D4', 'position': [...</td>\n",
       "    </tr>\n",
       "    <tr>\n",
       "      <th>10</th>\n",
       "      <td>{'type': 'quarter', 'pitch': 'B4', 'position':...</td>\n",
       "    </tr>\n",
       "    <tr>\n",
       "      <th>11</th>\n",
       "      <td>{'type': 'whole', 'pitch': 'E4', 'position': [...</td>\n",
       "    </tr>\n",
       "    <tr>\n",
       "      <th>12</th>\n",
       "      <td>{'type': '16th', 'pitch': 'E4', 'position': [2...</td>\n",
       "    </tr>\n",
       "    <tr>\n",
       "      <th>13</th>\n",
       "      <td>{'type': 'eighth', 'pitch': 'A4', 'position': ...</td>\n",
       "    </tr>\n",
       "    <tr>\n",
       "      <th>14</th>\n",
       "      <td>{'type': 'whole', 'pitch': 'D4', 'position': [...</td>\n",
       "    </tr>\n",
       "    <tr>\n",
       "      <th>15</th>\n",
       "      <td>{'type': '16th', 'pitch': 'B4', 'position': [2...</td>\n",
       "    </tr>\n",
       "    <tr>\n",
       "      <th>16</th>\n",
       "      <td>{'type': 'whole', 'pitch': 'C4', 'position': [...</td>\n",
       "    </tr>\n",
       "    <tr>\n",
       "      <th>17</th>\n",
       "      <td>{'type': 'eighth', 'pitch': 'E4', 'position': ...</td>\n",
       "    </tr>\n",
       "    <tr>\n",
       "      <th>18</th>\n",
       "      <td>{'type': '16th', 'pitch': 'F4', 'position': [3...</td>\n",
       "    </tr>\n",
       "    <tr>\n",
       "      <th>19</th>\n",
       "      <td>{'type': 'half', 'pitch': 'D4', 'position': [3...</td>\n",
       "    </tr>\n",
       "  </tbody>\n",
       "</table>\n",
       "</div>"
      ],
      "text/plain": [
       "                                              symbols\n",
       "0   {'type': 'eighth', 'pitch': 'B4', 'position': ...\n",
       "1   {'type': 'whole', 'pitch': 'A4', 'position': [...\n",
       "2   {'type': '16th', 'pitch': 'C5', 'position': [4...\n",
       "3   {'type': 'half', 'pitch': 'D4', 'position': [4...\n",
       "4   {'type': '16th', 'pitch': 'C4', 'position': [6...\n",
       "5   {'type': '16th', 'pitch': 'D4', 'position': [7...\n",
       "6   {'type': 'whole', 'pitch': 'E4', 'position': [...\n",
       "7   {'type': 'quarter', 'pitch': 'F4', 'position':...\n",
       "8   {'type': 'eighth', 'pitch': 'F4', 'position': ...\n",
       "9   {'type': 'whole', 'pitch': 'D4', 'position': [...\n",
       "10  {'type': 'quarter', 'pitch': 'B4', 'position':...\n",
       "11  {'type': 'whole', 'pitch': 'E4', 'position': [...\n",
       "12  {'type': '16th', 'pitch': 'E4', 'position': [2...\n",
       "13  {'type': 'eighth', 'pitch': 'A4', 'position': ...\n",
       "14  {'type': 'whole', 'pitch': 'D4', 'position': [...\n",
       "15  {'type': '16th', 'pitch': 'B4', 'position': [2...\n",
       "16  {'type': 'whole', 'pitch': 'C4', 'position': [...\n",
       "17  {'type': 'eighth', 'pitch': 'E4', 'position': ...\n",
       "18  {'type': '16th', 'pitch': 'F4', 'position': [3...\n",
       "19  {'type': 'half', 'pitch': 'D4', 'position': [3..."
      ]
     },
     "execution_count": 31,
     "metadata": {},
     "output_type": "execute_result"
    }
   ],
   "source": [
    "import pandas as pd\n",
    "\n",
    "df = pd.read_json('../data/labels/label_0.json')\n",
    "df"
   ]
  },
  {
   "cell_type": "code",
   "execution_count": 32,
   "metadata": {},
   "outputs": [],
   "source": [
    "def load_labels_to_dataframe(label_folder):\n",
    "    label_data = []\n",
    "    for file_name in os.listdir(label_folder):\n",
    "        if file_name.endswith('.json'):\n",
    "            with open(os.path.join(label_folder, file_name), 'r') as f:\n",
    "                data = json.load(f)\n",
    "                for symbol in data['symbols']:\n",
    "                    label_data.append({\n",
    "                        'file_name': file_name,\n",
    "                        'pitch': symbol['pitch'],\n",
    "                        'type': symbol['type'],\n",
    "                        'position': symbol['position']\n",
    "                    })\n",
    "    return pd.DataFrame(label_data)"
   ]
  },
  {
   "cell_type": "code",
   "execution_count": 33,
   "metadata": {},
   "outputs": [
    {
     "data": {
      "text/html": [
       "<div>\n",
       "<style scoped>\n",
       "    .dataframe tbody tr th:only-of-type {\n",
       "        vertical-align: middle;\n",
       "    }\n",
       "\n",
       "    .dataframe tbody tr th {\n",
       "        vertical-align: top;\n",
       "    }\n",
       "\n",
       "    .dataframe thead th {\n",
       "        text-align: right;\n",
       "    }\n",
       "</style>\n",
       "<table border=\"1\" class=\"dataframe\">\n",
       "  <thead>\n",
       "    <tr style=\"text-align: right;\">\n",
       "      <th></th>\n",
       "      <th>file_name</th>\n",
       "      <th>pitch</th>\n",
       "      <th>type</th>\n",
       "      <th>position</th>\n",
       "    </tr>\n",
       "  </thead>\n",
       "  <tbody>\n",
       "    <tr>\n",
       "      <th>0</th>\n",
       "      <td>label_6.json</td>\n",
       "      <td>G4</td>\n",
       "      <td>whole</td>\n",
       "      <td>[0.0, 0]</td>\n",
       "    </tr>\n",
       "    <tr>\n",
       "      <th>1</th>\n",
       "      <td>label_6.json</td>\n",
       "      <td>A4</td>\n",
       "      <td>quarter</td>\n",
       "      <td>[4.0, 0]</td>\n",
       "    </tr>\n",
       "    <tr>\n",
       "      <th>2</th>\n",
       "      <td>label_6.json</td>\n",
       "      <td>F4</td>\n",
       "      <td>quarter</td>\n",
       "      <td>[5.0, 0]</td>\n",
       "    </tr>\n",
       "    <tr>\n",
       "      <th>3</th>\n",
       "      <td>label_6.json</td>\n",
       "      <td>C5</td>\n",
       "      <td>whole</td>\n",
       "      <td>[6.0, 0]</td>\n",
       "    </tr>\n",
       "    <tr>\n",
       "      <th>4</th>\n",
       "      <td>label_6.json</td>\n",
       "      <td>C4</td>\n",
       "      <td>half</td>\n",
       "      <td>[10.0, 0]</td>\n",
       "    </tr>\n",
       "    <tr>\n",
       "      <th>...</th>\n",
       "      <td>...</td>\n",
       "      <td>...</td>\n",
       "      <td>...</td>\n",
       "      <td>...</td>\n",
       "    </tr>\n",
       "    <tr>\n",
       "      <th>295</th>\n",
       "      <td>label_9.json</td>\n",
       "      <td>D4</td>\n",
       "      <td>eighth</td>\n",
       "      <td>[30.5, 0]</td>\n",
       "    </tr>\n",
       "    <tr>\n",
       "      <th>296</th>\n",
       "      <td>label_9.json</td>\n",
       "      <td>D4</td>\n",
       "      <td>half</td>\n",
       "      <td>[31.0, 0]</td>\n",
       "    </tr>\n",
       "    <tr>\n",
       "      <th>297</th>\n",
       "      <td>label_9.json</td>\n",
       "      <td>B4</td>\n",
       "      <td>half</td>\n",
       "      <td>[33.0, 0]</td>\n",
       "    </tr>\n",
       "    <tr>\n",
       "      <th>298</th>\n",
       "      <td>label_9.json</td>\n",
       "      <td>C5</td>\n",
       "      <td>16th</td>\n",
       "      <td>[35.0, 0]</td>\n",
       "    </tr>\n",
       "    <tr>\n",
       "      <th>299</th>\n",
       "      <td>label_9.json</td>\n",
       "      <td>A4</td>\n",
       "      <td>eighth</td>\n",
       "      <td>[35.25, 0]</td>\n",
       "    </tr>\n",
       "  </tbody>\n",
       "</table>\n",
       "<p>300 rows × 4 columns</p>\n",
       "</div>"
      ],
      "text/plain": [
       "        file_name pitch     type    position\n",
       "0    label_6.json    G4    whole    [0.0, 0]\n",
       "1    label_6.json    A4  quarter    [4.0, 0]\n",
       "2    label_6.json    F4  quarter    [5.0, 0]\n",
       "3    label_6.json    C5    whole    [6.0, 0]\n",
       "4    label_6.json    C4     half   [10.0, 0]\n",
       "..            ...   ...      ...         ...\n",
       "295  label_9.json    D4   eighth   [30.5, 0]\n",
       "296  label_9.json    D4     half   [31.0, 0]\n",
       "297  label_9.json    B4     half   [33.0, 0]\n",
       "298  label_9.json    C5     16th   [35.0, 0]\n",
       "299  label_9.json    A4   eighth  [35.25, 0]\n",
       "\n",
       "[300 rows x 4 columns]"
      ]
     },
     "execution_count": 33,
     "metadata": {},
     "output_type": "execute_result"
    }
   ],
   "source": [
    "labels_df = load_labels_to_dataframe('../data/labels')\n",
    "labels_df"
   ]
  },
  {
   "cell_type": "code",
   "execution_count": 34,
   "metadata": {},
   "outputs": [
    {
     "data": {
      "image/png": "[encoded data removed]",
      "text/plain": [
       "<Figure size 1000x600 with 1 Axes>"
      ]
     },
     "metadata": {
      "image/png": {
       "height": 584,
       "width": 842
      }
     },
     "output_type": "display_data"
    }
   ],
   "source": [
    "import matplotlib.pyplot as plt\n",
    "\n",
    "# Plot the distribution of note types\n",
    "plt.figure(figsize=(10, 6))\n",
    "labels_df['type'].value_counts().plot(kind='bar')\n",
    "plt.title('Distribution of Note Types')\n",
    "plt.xlabel('Note Type')\n",
    "plt.ylabel('Frequency')\n",
    "plt.show()"
   ]
  },
  {
   "cell_type": "code",
   "execution_count": 35,
   "metadata": {},
   "outputs": [
    {
     "data": {
      "image/png": "[encoded data removed]",
      "text/plain": [
       "<Figure size 1000x600 with 1 Axes>"
      ]
     },
     "metadata": {
      "image/png": {
       "height": 552,
       "width": 842
      }
     },
     "output_type": "display_data"
    }
   ],
   "source": [
    "#Distribution of Pitches\n",
    "plt.figure(figsize=(10, 6))\n",
    "labels_df['pitch'].value_counts().plot(kind='bar')\n",
    "plt.title('Distribution of Pitches')\n",
    "plt.xlabel('Pitch')\n",
    "plt.ylabel('Frequency')\n",
    "plt.show()"
   ]
  },
  {
   "cell_type": "code",
   "execution_count": 44,
   "metadata": {},
   "outputs": [],
   "source": []
  }
 ],
 "metadata": {
  "kernelspec": {
   "display_name": "Consonance",
   "language": "python",
   "name": "python3"
  },
  "language_info": {
   "codemirror_mode": {
    "name": "ipython",
    "version": 3
   },
   "file_extension": ".py",
   "mimetype": "text/x-python",
   "name": "python",
   "nbconvert_exporter": "python",
   "pygments_lexer": "ipython3",
   "version": "3.10.6"
  }
 },
 "nbformat": 4,
 "nbformat_minor": 2
}
