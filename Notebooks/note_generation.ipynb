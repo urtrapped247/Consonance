{
 "cells": [
  {
   "cell_type": "code",
   "execution_count": 19,
   "metadata": {},
   "outputs": [],
   "source": [
    "import random\n",
    "from music21 import note, stream, converter, environment\n",
    "from PIL import Image\n",
    "import os"
   ]
  },
  {
   "cell_type": "code",
   "execution_count": 20,
   "metadata": {},
   "outputs": [],
   "source": [
    "# Define the range of pitches and note durations\n",
    "pitches = [\n",
    "    'C3', 'C#3', 'Db3', 'D3', 'D#3', 'Eb3', 'E3', 'F3', 'F#3', 'Gb3', 'G3', 'G#3', 'Ab3', 'A3', 'A#3', 'Bb3', 'B3',\n",
    "    'C4', 'C#4', 'Db4', 'D4', 'D#4', 'Eb4', 'E4', 'F4', 'F#4', 'Gb4', 'G4', 'G#4', 'Ab4', 'A4', 'A#4', 'Bb4', 'B4',\n",
    "    'C5', 'C#5', 'Db5', 'D5', 'D#5', 'Eb5', 'E5'\n",
    "]\n",
    "durations = ['whole', 'half', 'quarter', 'eighth', '16th']\n"
   ]
  },
  {
   "cell_type": "code",
   "execution_count": 21,
   "metadata": {},
   "outputs": [],
   "source": [
    "os.makedirs('note_images', exist_ok=True)\n",
    "\n",
    "# Set the MuseScore executable path\n",
    "us = environment.UserSettings()\n",
    "us['musicxmlPath'] = '/Applications/MuseScore 4.app/Contents/MacOS/mscore'\n",
    "us['musescoreDirectPNGPath'] = '/Applications/MuseScore 4.app/Contents/MacOS/mscore'"
   ]
  },
  {
   "cell_type": "code",
   "execution_count": 22,
   "metadata": {},
   "outputs": [],
   "source": [
    "def create_image(pitch, duration, save_path):\n",
    "    n = note.Note(pitch, type = duration)\n",
    "    s = stream.Stream([n])\n",
    "    s.write('musicxml.png', fp=save_path)"
   ]
  },
  {
   "cell_type": "code",
   "execution_count": 23,
   "metadata": {},
   "outputs": [],
   "source": [
    "combs = [(pitch, duration) for pitch in pitches for duration in durations]\n",
    "random.shuffle(combs)"
   ]
  },
  {
   "cell_type": "code",
   "execution_count": 25,
   "metadata": {},
   "outputs": [
    {
     "ename": "FileNotFoundError",
     "evalue": "[Errno 2] No such file or directory: '/Users/ninjamac/code/urtrapped247/Consonance/Notebooks/note_images/0_F#3_eighth.png'",
     "output_type": "error",
     "traceback": [
      "\u001b[0;31m---------------------------------------------------------------------------\u001b[0m",
      "\u001b[0;31mFileNotFoundError\u001b[0m                         Traceback (most recent call last)",
      "Cell \u001b[0;32mIn[25], line 5\u001b[0m\n\u001b[1;32m      2\u001b[0m save_path \u001b[38;5;241m=\u001b[39m \u001b[38;5;124mf\u001b[39m\u001b[38;5;124m'\u001b[39m\u001b[38;5;124mnote_images/\u001b[39m\u001b[38;5;132;01m{\u001b[39;00mi\u001b[38;5;132;01m}\u001b[39;00m\u001b[38;5;124m_\u001b[39m\u001b[38;5;132;01m{\u001b[39;00mpitch\u001b[38;5;132;01m}\u001b[39;00m\u001b[38;5;124m_\u001b[39m\u001b[38;5;132;01m{\u001b[39;00mduration\u001b[38;5;132;01m}\u001b[39;00m\u001b[38;5;124m.png\u001b[39m\u001b[38;5;124m'\u001b[39m\n\u001b[1;32m      3\u001b[0m create_image(pitch, duration, save_path)\n\u001b[0;32m----> 5\u001b[0m img \u001b[38;5;241m=\u001b[39m \u001b[43mImage\u001b[49m\u001b[38;5;241;43m.\u001b[39;49m\u001b[43mopen\u001b[49m\u001b[43m(\u001b[49m\u001b[43msave_path\u001b[49m\u001b[43m)\u001b[49m\n\u001b[1;32m      6\u001b[0m img \u001b[38;5;241m=\u001b[39m Image\u001b[38;5;241m.\u001b[39mresize((\u001b[38;5;241m128\u001b[39m,\u001b[38;5;241m128\u001b[39m))\n\u001b[1;32m      7\u001b[0m img\u001b[38;5;241m.\u001b[39msave(save_path)\n",
      "File \u001b[0;32m~/.pyenv/versions/3.10.6/envs/Consonance/lib/python3.10/site-packages/PIL/Image.py:3431\u001b[0m, in \u001b[0;36mopen\u001b[0;34m(fp, mode, formats)\u001b[0m\n\u001b[1;32m   3428\u001b[0m     filename \u001b[38;5;241m=\u001b[39m os\u001b[38;5;241m.\u001b[39mpath\u001b[38;5;241m.\u001b[39mrealpath(os\u001b[38;5;241m.\u001b[39mfspath(fp))\n\u001b[1;32m   3430\u001b[0m \u001b[38;5;28;01mif\u001b[39;00m filename:\n\u001b[0;32m-> 3431\u001b[0m     fp \u001b[38;5;241m=\u001b[39m \u001b[43mbuiltins\u001b[49m\u001b[38;5;241;43m.\u001b[39;49m\u001b[43mopen\u001b[49m\u001b[43m(\u001b[49m\u001b[43mfilename\u001b[49m\u001b[43m,\u001b[49m\u001b[43m \u001b[49m\u001b[38;5;124;43m\"\u001b[39;49m\u001b[38;5;124;43mrb\u001b[39;49m\u001b[38;5;124;43m\"\u001b[39;49m\u001b[43m)\u001b[49m\n\u001b[1;32m   3432\u001b[0m     exclusive_fp \u001b[38;5;241m=\u001b[39m \u001b[38;5;28;01mTrue\u001b[39;00m\n\u001b[1;32m   3433\u001b[0m \u001b[38;5;28;01melse\u001b[39;00m:\n",
      "\u001b[0;31mFileNotFoundError\u001b[0m: [Errno 2] No such file or directory: '/Users/ninjamac/code/urtrapped247/Consonance/Notebooks/note_images/0_F#3_eighth.png'"
     ]
    }
   ],
   "source": [
    "for i, (pitch, duration) in enumerate(combs):\n",
    "    save_path = f'note_images/{i}_{pitch}_{duration}.png'\n",
    "    create_image(pitch, duration, save_path)\n",
    "\n",
    "    img = Image.open(save_path)\n",
    "    img = Image.resize((128,128))\n",
    "    img.save(save_path)"
   ]
  },
  {
   "cell_type": "markdown",
   "metadata": {},
   "source": [
    "# Create a way to generate music"
   ]
  },
  {
   "cell_type": "markdown",
   "metadata": {},
   "source": [
    "## Generate Synthetic MusicXML"
   ]
  },
  {
   "cell_type": "code",
   "execution_count": 8,
   "metadata": {},
   "outputs": [],
   "source": [
    "from music21 import stream, note, duration\n",
    "import os\n",
    "\n",
    "def generate_synthetic_musicxml(num_samples=100, output_folder='../data/generated_music'):\n",
    "    # check for output - Use this for .py\n",
    "        # output_folder = os.path.join(os.path.dirname(__file__), os.pardir, 'musicxml_files')\n",
    "        # if not os.path.exists(output_folder):\n",
    "        #     os.makedirs(output_folder)\n",
    "\n",
    "    #for our notebook since __file__ seems to not work\n",
    "    current_dir = os.getcwd()\n",
    "    output_folder = os.path.join(current_dir, output_folder)\n",
    "    if not os.path.exists(output_folder):\n",
    "        os.makedirs(output_folder)\n",
    "\n",
    "\n",
    "    synthetic_data = []\n",
    "\n",
    "    for i in range(num_samples):\n",
    "        s = stream.Stream()\n",
    "        for _ in range(20):\n",
    "            n = note.Note()\n",
    "            n.duration = duration.Duration('quarter')\n",
    "            s.append(n)\n",
    "        s.write('musicxml', fp=f'{output_folder}/sheet_{i}.musicxml')\n",
    "        synthetic_data.append(s)\n",
    "    return synthetic_data"
   ]
  },
  {
   "cell_type": "code",
   "execution_count": 9,
   "metadata": {},
   "outputs": [],
   "source": [
    "synthetic_data = generate_synthetic_musicxml()\n"
   ]
  },
  {
   "cell_type": "code",
   "execution_count": null,
   "metadata": {},
   "outputs": [],
   "source": []
  }
 ],
 "metadata": {
  "kernelspec": {
   "display_name": "Consonance",
   "language": "python",
   "name": "python3"
  },
  "language_info": {
   "codemirror_mode": {
    "name": "ipython",
    "version": 3
   },
   "file_extension": ".py",
   "mimetype": "text/x-python",
   "name": "python",
   "nbconvert_exporter": "python",
   "pygments_lexer": "ipython3",
   "version": "3.10.6"
  }
 },
 "nbformat": 4,
 "nbformat_minor": 2
}
